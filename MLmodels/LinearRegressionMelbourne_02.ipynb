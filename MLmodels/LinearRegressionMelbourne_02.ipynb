{
 "cells": [
  {
   "cell_type": "code",
   "execution_count": 1,
   "metadata": {
    "colab": {
     "base_uri": "https://localhost:8080/",
     "height": 317
    },
    "executionInfo": {
     "elapsed": 2241,
     "status": "ok",
     "timestamp": 1620118043992,
     "user": {
      "displayName": "Md Ameer",
      "photoUrl": "",
      "userId": "14836462514122757591"
     },
     "user_tz": -330
    },
    "id": "OoTKDzZB3Crg",
    "outputId": "82c4bcb0-ebf1-4e8f-b7ef-67fe7d04f698"
   },
   "outputs": [
    {
     "data": {
      "text/html": [
       "<div>\n",
       "<style scoped>\n",
       "    .dataframe tbody tr th:only-of-type {\n",
       "        vertical-align: middle;\n",
       "    }\n",
       "\n",
       "    .dataframe tbody tr th {\n",
       "        vertical-align: top;\n",
       "    }\n",
       "\n",
       "    .dataframe thead th {\n",
       "        text-align: right;\n",
       "    }\n",
       "</style>\n",
       "<table border=\"1\" class=\"dataframe\">\n",
       "  <thead>\n",
       "    <tr style=\"text-align: right;\">\n",
       "      <th></th>\n",
       "      <th>Suburb</th>\n",
       "      <th>Address</th>\n",
       "      <th>Rooms</th>\n",
       "      <th>Type</th>\n",
       "      <th>Price</th>\n",
       "      <th>Method</th>\n",
       "      <th>SellerG</th>\n",
       "      <th>Date</th>\n",
       "      <th>Distance</th>\n",
       "      <th>Postcode</th>\n",
       "      <th>...</th>\n",
       "      <th>Bathroom</th>\n",
       "      <th>Car</th>\n",
       "      <th>Landsize</th>\n",
       "      <th>BuildingArea</th>\n",
       "      <th>YearBuilt</th>\n",
       "      <th>CouncilArea</th>\n",
       "      <th>Lattitude</th>\n",
       "      <th>Longtitude</th>\n",
       "      <th>Regionname</th>\n",
       "      <th>Propertycount</th>\n",
       "    </tr>\n",
       "  </thead>\n",
       "  <tbody>\n",
       "    <tr>\n",
       "      <th>0</th>\n",
       "      <td>Abbotsford</td>\n",
       "      <td>68 Studley St</td>\n",
       "      <td>2</td>\n",
       "      <td>h</td>\n",
       "      <td>NaN</td>\n",
       "      <td>SS</td>\n",
       "      <td>Jellis</td>\n",
       "      <td>3/09/2016</td>\n",
       "      <td>2.5</td>\n",
       "      <td>3067.0</td>\n",
       "      <td>...</td>\n",
       "      <td>1.0</td>\n",
       "      <td>1.0</td>\n",
       "      <td>126.0</td>\n",
       "      <td>NaN</td>\n",
       "      <td>NaN</td>\n",
       "      <td>Yarra City Council</td>\n",
       "      <td>-37.8014</td>\n",
       "      <td>144.9958</td>\n",
       "      <td>Northern Metropolitan</td>\n",
       "      <td>4019.0</td>\n",
       "    </tr>\n",
       "    <tr>\n",
       "      <th>1</th>\n",
       "      <td>Abbotsford</td>\n",
       "      <td>85 Turner St</td>\n",
       "      <td>2</td>\n",
       "      <td>h</td>\n",
       "      <td>1480000.0</td>\n",
       "      <td>S</td>\n",
       "      <td>Biggin</td>\n",
       "      <td>3/12/2016</td>\n",
       "      <td>2.5</td>\n",
       "      <td>3067.0</td>\n",
       "      <td>...</td>\n",
       "      <td>1.0</td>\n",
       "      <td>1.0</td>\n",
       "      <td>202.0</td>\n",
       "      <td>NaN</td>\n",
       "      <td>NaN</td>\n",
       "      <td>Yarra City Council</td>\n",
       "      <td>-37.7996</td>\n",
       "      <td>144.9984</td>\n",
       "      <td>Northern Metropolitan</td>\n",
       "      <td>4019.0</td>\n",
       "    </tr>\n",
       "    <tr>\n",
       "      <th>2</th>\n",
       "      <td>Abbotsford</td>\n",
       "      <td>25 Bloomburg St</td>\n",
       "      <td>2</td>\n",
       "      <td>h</td>\n",
       "      <td>1035000.0</td>\n",
       "      <td>S</td>\n",
       "      <td>Biggin</td>\n",
       "      <td>4/02/2016</td>\n",
       "      <td>2.5</td>\n",
       "      <td>3067.0</td>\n",
       "      <td>...</td>\n",
       "      <td>1.0</td>\n",
       "      <td>0.0</td>\n",
       "      <td>156.0</td>\n",
       "      <td>79.0</td>\n",
       "      <td>1900.0</td>\n",
       "      <td>Yarra City Council</td>\n",
       "      <td>-37.8079</td>\n",
       "      <td>144.9934</td>\n",
       "      <td>Northern Metropolitan</td>\n",
       "      <td>4019.0</td>\n",
       "    </tr>\n",
       "    <tr>\n",
       "      <th>3</th>\n",
       "      <td>Abbotsford</td>\n",
       "      <td>18/659 Victoria St</td>\n",
       "      <td>3</td>\n",
       "      <td>u</td>\n",
       "      <td>NaN</td>\n",
       "      <td>VB</td>\n",
       "      <td>Rounds</td>\n",
       "      <td>4/02/2016</td>\n",
       "      <td>2.5</td>\n",
       "      <td>3067.0</td>\n",
       "      <td>...</td>\n",
       "      <td>2.0</td>\n",
       "      <td>1.0</td>\n",
       "      <td>0.0</td>\n",
       "      <td>NaN</td>\n",
       "      <td>NaN</td>\n",
       "      <td>Yarra City Council</td>\n",
       "      <td>-37.8114</td>\n",
       "      <td>145.0116</td>\n",
       "      <td>Northern Metropolitan</td>\n",
       "      <td>4019.0</td>\n",
       "    </tr>\n",
       "    <tr>\n",
       "      <th>4</th>\n",
       "      <td>Abbotsford</td>\n",
       "      <td>5 Charles St</td>\n",
       "      <td>3</td>\n",
       "      <td>h</td>\n",
       "      <td>1465000.0</td>\n",
       "      <td>SP</td>\n",
       "      <td>Biggin</td>\n",
       "      <td>4/03/2017</td>\n",
       "      <td>2.5</td>\n",
       "      <td>3067.0</td>\n",
       "      <td>...</td>\n",
       "      <td>2.0</td>\n",
       "      <td>0.0</td>\n",
       "      <td>134.0</td>\n",
       "      <td>150.0</td>\n",
       "      <td>1900.0</td>\n",
       "      <td>Yarra City Council</td>\n",
       "      <td>-37.8093</td>\n",
       "      <td>144.9944</td>\n",
       "      <td>Northern Metropolitan</td>\n",
       "      <td>4019.0</td>\n",
       "    </tr>\n",
       "  </tbody>\n",
       "</table>\n",
       "<p>5 rows × 21 columns</p>\n",
       "</div>"
      ],
      "text/plain": [
       "       Suburb             Address  Rooms Type      Price Method SellerG  \\\n",
       "0  Abbotsford       68 Studley St      2    h        NaN     SS  Jellis   \n",
       "1  Abbotsford        85 Turner St      2    h  1480000.0      S  Biggin   \n",
       "2  Abbotsford     25 Bloomburg St      2    h  1035000.0      S  Biggin   \n",
       "3  Abbotsford  18/659 Victoria St      3    u        NaN     VB  Rounds   \n",
       "4  Abbotsford        5 Charles St      3    h  1465000.0     SP  Biggin   \n",
       "\n",
       "        Date  Distance  Postcode  ...  Bathroom  Car  Landsize  BuildingArea  \\\n",
       "0  3/09/2016       2.5    3067.0  ...       1.0  1.0     126.0           NaN   \n",
       "1  3/12/2016       2.5    3067.0  ...       1.0  1.0     202.0           NaN   \n",
       "2  4/02/2016       2.5    3067.0  ...       1.0  0.0     156.0          79.0   \n",
       "3  4/02/2016       2.5    3067.0  ...       2.0  1.0       0.0           NaN   \n",
       "4  4/03/2017       2.5    3067.0  ...       2.0  0.0     134.0         150.0   \n",
       "\n",
       "   YearBuilt         CouncilArea Lattitude  Longtitude             Regionname  \\\n",
       "0        NaN  Yarra City Council  -37.8014    144.9958  Northern Metropolitan   \n",
       "1        NaN  Yarra City Council  -37.7996    144.9984  Northern Metropolitan   \n",
       "2     1900.0  Yarra City Council  -37.8079    144.9934  Northern Metropolitan   \n",
       "3        NaN  Yarra City Council  -37.8114    145.0116  Northern Metropolitan   \n",
       "4     1900.0  Yarra City Council  -37.8093    144.9944  Northern Metropolitan   \n",
       "\n",
       "  Propertycount  \n",
       "0        4019.0  \n",
       "1        4019.0  \n",
       "2        4019.0  \n",
       "3        4019.0  \n",
       "4        4019.0  \n",
       "\n",
       "[5 rows x 21 columns]"
      ]
     },
     "execution_count": 1,
     "metadata": {},
     "output_type": "execute_result"
    }
   ],
   "source": [
    "import pandas as pd\n",
    "df = pd.read_csv('Melbourne_housing_FULL.csv')\n",
    "df.head()"
   ]
  },
  {
   "cell_type": "code",
   "execution_count": 2,
   "metadata": {
    "colab": {
     "base_uri": "https://localhost:8080/"
    },
    "executionInfo": {
     "elapsed": 2219,
     "status": "ok",
     "timestamp": 1620118043993,
     "user": {
      "displayName": "Md Ameer",
      "photoUrl": "",
      "userId": "14836462514122757591"
     },
     "user_tz": -330
    },
    "id": "6lOne4MJ4-V7",
    "outputId": "04fd3e8f-2e1a-4b30-c582-ab5ab5c81b20"
   },
   "outputs": [
    {
     "data": {
      "text/plain": [
       "(34857, 21)"
      ]
     },
     "execution_count": 2,
     "metadata": {},
     "output_type": "execute_result"
    }
   ],
   "source": [
    "df.shape"
   ]
  },
  {
   "cell_type": "code",
   "execution_count": 3,
   "metadata": {
    "colab": {
     "base_uri": "https://localhost:8080/"
    },
    "executionInfo": {
     "elapsed": 2205,
     "status": "ok",
     "timestamp": 1620118043994,
     "user": {
      "displayName": "Md Ameer",
      "photoUrl": "",
      "userId": "14836462514122757591"
     },
     "user_tz": -330
    },
    "id": "Ls8VjkCA54GN",
    "outputId": "afc8a562-7d44-40d0-ca8f-0dc129aead33"
   },
   "outputs": [
    {
     "name": "stdout",
     "output_type": "stream",
     "text": [
      "<class 'pandas.core.frame.DataFrame'>\n",
      "RangeIndex: 34857 entries, 0 to 34856\n",
      "Data columns (total 21 columns):\n",
      " #   Column         Non-Null Count  Dtype  \n",
      "---  ------         --------------  -----  \n",
      " 0   Suburb         34857 non-null  object \n",
      " 1   Address        34857 non-null  object \n",
      " 2   Rooms          34857 non-null  int64  \n",
      " 3   Type           34857 non-null  object \n",
      " 4   Price          27247 non-null  float64\n",
      " 5   Method         34857 non-null  object \n",
      " 6   SellerG        34857 non-null  object \n",
      " 7   Date           34857 non-null  object \n",
      " 8   Distance       34856 non-null  float64\n",
      " 9   Postcode       34856 non-null  float64\n",
      " 10  Bedroom2       26640 non-null  float64\n",
      " 11  Bathroom       26631 non-null  float64\n",
      " 12  Car            26129 non-null  float64\n",
      " 13  Landsize       23047 non-null  float64\n",
      " 14  BuildingArea   13742 non-null  float64\n",
      " 15  YearBuilt      15551 non-null  float64\n",
      " 16  CouncilArea    34854 non-null  object \n",
      " 17  Lattitude      26881 non-null  float64\n",
      " 18  Longtitude     26881 non-null  float64\n",
      " 19  Regionname     34854 non-null  object \n",
      " 20  Propertycount  34854 non-null  float64\n",
      "dtypes: float64(12), int64(1), object(8)\n",
      "memory usage: 5.6+ MB\n"
     ]
    }
   ],
   "source": [
    "df.info()"
   ]
  },
  {
   "cell_type": "code",
   "execution_count": 4,
   "metadata": {
    "colab": {
     "base_uri": "https://localhost:8080/"
    },
    "executionInfo": {
     "elapsed": 2190,
     "status": "ok",
     "timestamp": 1620118043995,
     "user": {
      "displayName": "Md Ameer",
      "photoUrl": "",
      "userId": "14836462514122757591"
     },
     "user_tz": -330
    },
    "id": "MhlD6XMy5_L-",
    "outputId": "2ddc0072-853e-457f-81bf-d0d56fcc212a"
   },
   "outputs": [
    {
     "data": {
      "text/plain": [
       "Suburb             351\n",
       "Address          34009\n",
       "Rooms               12\n",
       "Type                 3\n",
       "Price             2871\n",
       "Method               9\n",
       "SellerG            388\n",
       "Date                78\n",
       "Distance           215\n",
       "Postcode           211\n",
       "Bedroom2            15\n",
       "Bathroom            11\n",
       "Car                 15\n",
       "Landsize          1684\n",
       "BuildingArea       740\n",
       "YearBuilt          160\n",
       "CouncilArea         33\n",
       "Lattitude        13402\n",
       "Longtitude       14524\n",
       "Regionname           8\n",
       "Propertycount      342\n",
       "dtype: int64"
      ]
     },
     "execution_count": 4,
     "metadata": {},
     "output_type": "execute_result"
    }
   ],
   "source": [
    "df.nunique()"
   ]
  },
  {
   "cell_type": "code",
   "execution_count": 5,
   "metadata": {
    "colab": {
     "base_uri": "https://localhost:8080/"
    },
    "executionInfo": {
     "elapsed": 2177,
     "status": "ok",
     "timestamp": 1620118043996,
     "user": {
      "displayName": "Md Ameer",
      "photoUrl": "",
      "userId": "14836462514122757591"
     },
     "user_tz": -330
    },
    "id": "vGtcAZPcSttL",
    "outputId": "931a7e51-39d7-4b90-fc2c-aac458f5cf33"
   },
   "outputs": [
    {
     "data": {
      "text/plain": [
       "array(['Suburb', 'Address', 'Type', 'Method', 'SellerG', 'Date',\n",
       "       'CouncilArea', 'Regionname'], dtype=object)"
      ]
     },
     "execution_count": 5,
     "metadata": {},
     "output_type": "execute_result"
    }
   ],
   "source": [
    "num_col = df.dtypes[df.dtypes!='object'].index.values\n",
    "cat_col = df.dtypes[df.dtypes=='object'].index.values\n",
    "cat_col"
   ]
  },
  {
   "cell_type": "code",
   "execution_count": 6,
   "metadata": {
    "colab": {
     "base_uri": "https://localhost:8080/"
    },
    "executionInfo": {
     "elapsed": 2161,
     "status": "ok",
     "timestamp": 1620118043996,
     "user": {
      "displayName": "Md Ameer",
      "photoUrl": "",
      "userId": "14836462514122757591"
     },
     "user_tz": -330
    },
    "id": "ygdJj-8LUaeA",
    "outputId": "1265a955-dcc9-4add-f68a-4ab83fbf120d"
   },
   "outputs": [
    {
     "data": {
      "text/plain": [
       "Suburb           351\n",
       "Address        34009\n",
       "Type               3\n",
       "Method             9\n",
       "SellerG          388\n",
       "Date              78\n",
       "CouncilArea       33\n",
       "Regionname         8\n",
       "dtype: int64"
      ]
     },
     "execution_count": 6,
     "metadata": {},
     "output_type": "execute_result"
    }
   ],
   "source": [
    "df[cat_col].nunique()"
   ]
  },
  {
   "cell_type": "code",
   "execution_count": 8,
   "metadata": {
    "executionInfo": {
     "elapsed": 2148,
     "status": "ok",
     "timestamp": 1620118043997,
     "user": {
      "displayName": "Md Ameer",
      "photoUrl": "",
      "userId": "14836462514122757591"
     },
     "user_tz": -330
    },
    "id": "Iiz-1aG26bPw"
   },
   "outputs": [],
   "source": [
    "for col in cat_col:\n",
    "    if df[col].nunique() >50:\n",
    "        df = df.drop(col,axis=1)\n",
    "\n",
    "#res['Price'] = df['Price'] # Keeping Price coz its dependent variable"
   ]
  },
  {
   "cell_type": "code",
   "execution_count": 9,
   "metadata": {
    "colab": {
     "base_uri": "https://localhost:8080/",
     "height": 281
    },
    "executionInfo": {
     "elapsed": 2135,
     "status": "ok",
     "timestamp": 1620118043998,
     "user": {
      "displayName": "Md Ameer",
      "photoUrl": "",
      "userId": "14836462514122757591"
     },
     "user_tz": -330
    },
    "id": "-Fcjnj0_AQtl",
    "outputId": "f1a30853-2d1e-4e9d-dd63-16add4e1fe39"
   },
   "outputs": [
    {
     "data": {
      "text/html": [
       "<div>\n",
       "<style scoped>\n",
       "    .dataframe tbody tr th:only-of-type {\n",
       "        vertical-align: middle;\n",
       "    }\n",
       "\n",
       "    .dataframe tbody tr th {\n",
       "        vertical-align: top;\n",
       "    }\n",
       "\n",
       "    .dataframe thead th {\n",
       "        text-align: right;\n",
       "    }\n",
       "</style>\n",
       "<table border=\"1\" class=\"dataframe\">\n",
       "  <thead>\n",
       "    <tr style=\"text-align: right;\">\n",
       "      <th></th>\n",
       "      <th>Rooms</th>\n",
       "      <th>Type</th>\n",
       "      <th>Price</th>\n",
       "      <th>Method</th>\n",
       "      <th>Distance</th>\n",
       "      <th>Postcode</th>\n",
       "      <th>Bedroom2</th>\n",
       "      <th>Bathroom</th>\n",
       "      <th>Car</th>\n",
       "      <th>Landsize</th>\n",
       "      <th>BuildingArea</th>\n",
       "      <th>YearBuilt</th>\n",
       "      <th>CouncilArea</th>\n",
       "      <th>Lattitude</th>\n",
       "      <th>Longtitude</th>\n",
       "      <th>Regionname</th>\n",
       "      <th>Propertycount</th>\n",
       "    </tr>\n",
       "  </thead>\n",
       "  <tbody>\n",
       "    <tr>\n",
       "      <th>0</th>\n",
       "      <td>2</td>\n",
       "      <td>h</td>\n",
       "      <td>NaN</td>\n",
       "      <td>SS</td>\n",
       "      <td>2.5</td>\n",
       "      <td>3067.0</td>\n",
       "      <td>2.0</td>\n",
       "      <td>1.0</td>\n",
       "      <td>1.0</td>\n",
       "      <td>126.0</td>\n",
       "      <td>NaN</td>\n",
       "      <td>NaN</td>\n",
       "      <td>Yarra City Council</td>\n",
       "      <td>-37.8014</td>\n",
       "      <td>144.9958</td>\n",
       "      <td>Northern Metropolitan</td>\n",
       "      <td>4019.0</td>\n",
       "    </tr>\n",
       "    <tr>\n",
       "      <th>1</th>\n",
       "      <td>2</td>\n",
       "      <td>h</td>\n",
       "      <td>1480000.0</td>\n",
       "      <td>S</td>\n",
       "      <td>2.5</td>\n",
       "      <td>3067.0</td>\n",
       "      <td>2.0</td>\n",
       "      <td>1.0</td>\n",
       "      <td>1.0</td>\n",
       "      <td>202.0</td>\n",
       "      <td>NaN</td>\n",
       "      <td>NaN</td>\n",
       "      <td>Yarra City Council</td>\n",
       "      <td>-37.7996</td>\n",
       "      <td>144.9984</td>\n",
       "      <td>Northern Metropolitan</td>\n",
       "      <td>4019.0</td>\n",
       "    </tr>\n",
       "    <tr>\n",
       "      <th>2</th>\n",
       "      <td>2</td>\n",
       "      <td>h</td>\n",
       "      <td>1035000.0</td>\n",
       "      <td>S</td>\n",
       "      <td>2.5</td>\n",
       "      <td>3067.0</td>\n",
       "      <td>2.0</td>\n",
       "      <td>1.0</td>\n",
       "      <td>0.0</td>\n",
       "      <td>156.0</td>\n",
       "      <td>79.0</td>\n",
       "      <td>1900.0</td>\n",
       "      <td>Yarra City Council</td>\n",
       "      <td>-37.8079</td>\n",
       "      <td>144.9934</td>\n",
       "      <td>Northern Metropolitan</td>\n",
       "      <td>4019.0</td>\n",
       "    </tr>\n",
       "    <tr>\n",
       "      <th>3</th>\n",
       "      <td>3</td>\n",
       "      <td>u</td>\n",
       "      <td>NaN</td>\n",
       "      <td>VB</td>\n",
       "      <td>2.5</td>\n",
       "      <td>3067.0</td>\n",
       "      <td>3.0</td>\n",
       "      <td>2.0</td>\n",
       "      <td>1.0</td>\n",
       "      <td>0.0</td>\n",
       "      <td>NaN</td>\n",
       "      <td>NaN</td>\n",
       "      <td>Yarra City Council</td>\n",
       "      <td>-37.8114</td>\n",
       "      <td>145.0116</td>\n",
       "      <td>Northern Metropolitan</td>\n",
       "      <td>4019.0</td>\n",
       "    </tr>\n",
       "    <tr>\n",
       "      <th>4</th>\n",
       "      <td>3</td>\n",
       "      <td>h</td>\n",
       "      <td>1465000.0</td>\n",
       "      <td>SP</td>\n",
       "      <td>2.5</td>\n",
       "      <td>3067.0</td>\n",
       "      <td>3.0</td>\n",
       "      <td>2.0</td>\n",
       "      <td>0.0</td>\n",
       "      <td>134.0</td>\n",
       "      <td>150.0</td>\n",
       "      <td>1900.0</td>\n",
       "      <td>Yarra City Council</td>\n",
       "      <td>-37.8093</td>\n",
       "      <td>144.9944</td>\n",
       "      <td>Northern Metropolitan</td>\n",
       "      <td>4019.0</td>\n",
       "    </tr>\n",
       "  </tbody>\n",
       "</table>\n",
       "</div>"
      ],
      "text/plain": [
       "   Rooms Type      Price Method  Distance  Postcode  Bedroom2  Bathroom  Car  \\\n",
       "0      2    h        NaN     SS       2.5    3067.0       2.0       1.0  1.0   \n",
       "1      2    h  1480000.0      S       2.5    3067.0       2.0       1.0  1.0   \n",
       "2      2    h  1035000.0      S       2.5    3067.0       2.0       1.0  0.0   \n",
       "3      3    u        NaN     VB       2.5    3067.0       3.0       2.0  1.0   \n",
       "4      3    h  1465000.0     SP       2.5    3067.0       3.0       2.0  0.0   \n",
       "\n",
       "   Landsize  BuildingArea  YearBuilt         CouncilArea  Lattitude  \\\n",
       "0     126.0           NaN        NaN  Yarra City Council   -37.8014   \n",
       "1     202.0           NaN        NaN  Yarra City Council   -37.7996   \n",
       "2     156.0          79.0     1900.0  Yarra City Council   -37.8079   \n",
       "3       0.0           NaN        NaN  Yarra City Council   -37.8114   \n",
       "4     134.0         150.0     1900.0  Yarra City Council   -37.8093   \n",
       "\n",
       "   Longtitude             Regionname  Propertycount  \n",
       "0    144.9958  Northern Metropolitan         4019.0  \n",
       "1    144.9984  Northern Metropolitan         4019.0  \n",
       "2    144.9934  Northern Metropolitan         4019.0  \n",
       "3    145.0116  Northern Metropolitan         4019.0  \n",
       "4    144.9944  Northern Metropolitan         4019.0  "
      ]
     },
     "execution_count": 9,
     "metadata": {},
     "output_type": "execute_result"
    }
   ],
   "source": [
    "df.head()"
   ]
  },
  {
   "cell_type": "code",
   "execution_count": 10,
   "metadata": {
    "colab": {
     "base_uri": "https://localhost:8080/"
    },
    "executionInfo": {
     "elapsed": 2121,
     "status": "ok",
     "timestamp": 1620118043999,
     "user": {
      "displayName": "Md Ameer",
      "photoUrl": "",
      "userId": "14836462514122757591"
     },
     "user_tz": -330
    },
    "id": "Vm58cHyRATOH",
    "outputId": "79858612-0235-4bc1-d650-2735ef887405"
   },
   "outputs": [
    {
     "data": {
      "text/plain": [
       "(34857, 17)"
      ]
     },
     "execution_count": 10,
     "metadata": {},
     "output_type": "execute_result"
    }
   ],
   "source": [
    "df.shape"
   ]
  },
  {
   "cell_type": "code",
   "execution_count": 11,
   "metadata": {
    "colab": {
     "base_uri": "https://localhost:8080/"
    },
    "executionInfo": {
     "elapsed": 2109,
     "status": "ok",
     "timestamp": 1620118044000,
     "user": {
      "displayName": "Md Ameer",
      "photoUrl": "",
      "userId": "14836462514122757591"
     },
     "user_tz": -330
    },
    "id": "SdyR3l--T23s",
    "outputId": "e0c9d4f1-1249-4ad8-fd87-846ea2138251"
   },
   "outputs": [
    {
     "data": {
      "text/plain": [
       "Rooms               12\n",
       "Type                 3\n",
       "Price             2871\n",
       "Method               9\n",
       "Distance           215\n",
       "Postcode           211\n",
       "Bedroom2            15\n",
       "Bathroom            11\n",
       "Car                 15\n",
       "Landsize          1684\n",
       "BuildingArea       740\n",
       "YearBuilt          160\n",
       "CouncilArea         33\n",
       "Lattitude        13402\n",
       "Longtitude       14524\n",
       "Regionname           8\n",
       "Propertycount      342\n",
       "dtype: int64"
      ]
     },
     "execution_count": 11,
     "metadata": {},
     "output_type": "execute_result"
    }
   ],
   "source": [
    "df.nunique()"
   ]
  },
  {
   "cell_type": "code",
   "execution_count": 12,
   "metadata": {
    "colab": {
     "base_uri": "https://localhost:8080/"
    },
    "executionInfo": {
     "elapsed": 2097,
     "status": "ok",
     "timestamp": 1620118044001,
     "user": {
      "displayName": "Md Ameer",
      "photoUrl": "",
      "userId": "14836462514122757591"
     },
     "user_tz": -330
    },
    "id": "6f8MQ3r_gZZm",
    "outputId": "6492ebcb-306b-4319-a0e6-cb1279a7385c"
   },
   "outputs": [
    {
     "data": {
      "text/plain": [
       "True     25692\n",
       "False      948\n",
       "dtype: int64"
      ]
     },
     "execution_count": 12,
     "metadata": {},
     "output_type": "execute_result"
    }
   ],
   "source": [
    "# Rooms and Bedroom2 columns are repeated columns(almost similar)\n",
    "a = df[['Rooms','Bedroom2']].dropna()\n",
    "(a['Rooms']==a['Bedroom2']).value_counts()\n",
    "# Less than 948 missing values(less than 3%)\n",
    "# So drop Bedroom2 column"
   ]
  },
  {
   "cell_type": "code",
   "execution_count": 13,
   "metadata": {
    "colab": {
     "base_uri": "https://localhost:8080/"
    },
    "executionInfo": {
     "elapsed": 2945,
     "status": "ok",
     "timestamp": 1620118044860,
     "user": {
      "displayName": "Md Ameer",
      "photoUrl": "",
      "userId": "14836462514122757591"
     },
     "user_tz": -330
    },
    "id": "w-4L48DYiCRI",
    "outputId": "8fe2c279-e6b1-42b9-a395-2556d049702d"
   },
   "outputs": [
    {
     "data": {
      "text/plain": [
       "3.68986454927604"
      ]
     },
     "execution_count": 13,
     "metadata": {},
     "output_type": "execute_result"
    }
   ],
   "source": [
    "948/25692*100"
   ]
  },
  {
   "cell_type": "code",
   "execution_count": 14,
   "metadata": {
    "colab": {
     "base_uri": "https://localhost:8080/",
     "height": 197
    },
    "executionInfo": {
     "elapsed": 2932,
     "status": "ok",
     "timestamp": 1620118044863,
     "user": {
      "displayName": "Md Ameer",
      "photoUrl": "",
      "userId": "14836462514122757591"
     },
     "user_tz": -330
    },
    "id": "SL-D3jzvVNVJ",
    "outputId": "8b92b5eb-5cc2-482b-91b1-5542de2e641c"
   },
   "outputs": [
    {
     "data": {
      "text/html": [
       "<div>\n",
       "<style scoped>\n",
       "    .dataframe tbody tr th:only-of-type {\n",
       "        vertical-align: middle;\n",
       "    }\n",
       "\n",
       "    .dataframe tbody tr th {\n",
       "        vertical-align: top;\n",
       "    }\n",
       "\n",
       "    .dataframe thead th {\n",
       "        text-align: right;\n",
       "    }\n",
       "</style>\n",
       "<table border=\"1\" class=\"dataframe\">\n",
       "  <thead>\n",
       "    <tr style=\"text-align: right;\">\n",
       "      <th></th>\n",
       "      <th>Rooms</th>\n",
       "      <th>Type</th>\n",
       "      <th>Price</th>\n",
       "      <th>Method</th>\n",
       "      <th>Distance</th>\n",
       "      <th>Bathroom</th>\n",
       "      <th>Car</th>\n",
       "      <th>Landsize</th>\n",
       "      <th>BuildingArea</th>\n",
       "      <th>YearBuilt</th>\n",
       "      <th>CouncilArea</th>\n",
       "      <th>Regionname</th>\n",
       "      <th>Propertycount</th>\n",
       "    </tr>\n",
       "  </thead>\n",
       "  <tbody>\n",
       "    <tr>\n",
       "      <th>0</th>\n",
       "      <td>2</td>\n",
       "      <td>h</td>\n",
       "      <td>NaN</td>\n",
       "      <td>SS</td>\n",
       "      <td>2.5</td>\n",
       "      <td>1.0</td>\n",
       "      <td>1.0</td>\n",
       "      <td>126.0</td>\n",
       "      <td>NaN</td>\n",
       "      <td>NaN</td>\n",
       "      <td>Yarra City Council</td>\n",
       "      <td>Northern Metropolitan</td>\n",
       "      <td>4019.0</td>\n",
       "    </tr>\n",
       "    <tr>\n",
       "      <th>1</th>\n",
       "      <td>2</td>\n",
       "      <td>h</td>\n",
       "      <td>1480000.0</td>\n",
       "      <td>S</td>\n",
       "      <td>2.5</td>\n",
       "      <td>1.0</td>\n",
       "      <td>1.0</td>\n",
       "      <td>202.0</td>\n",
       "      <td>NaN</td>\n",
       "      <td>NaN</td>\n",
       "      <td>Yarra City Council</td>\n",
       "      <td>Northern Metropolitan</td>\n",
       "      <td>4019.0</td>\n",
       "    </tr>\n",
       "    <tr>\n",
       "      <th>2</th>\n",
       "      <td>2</td>\n",
       "      <td>h</td>\n",
       "      <td>1035000.0</td>\n",
       "      <td>S</td>\n",
       "      <td>2.5</td>\n",
       "      <td>1.0</td>\n",
       "      <td>0.0</td>\n",
       "      <td>156.0</td>\n",
       "      <td>79.0</td>\n",
       "      <td>1900.0</td>\n",
       "      <td>Yarra City Council</td>\n",
       "      <td>Northern Metropolitan</td>\n",
       "      <td>4019.0</td>\n",
       "    </tr>\n",
       "    <tr>\n",
       "      <th>3</th>\n",
       "      <td>3</td>\n",
       "      <td>u</td>\n",
       "      <td>NaN</td>\n",
       "      <td>VB</td>\n",
       "      <td>2.5</td>\n",
       "      <td>2.0</td>\n",
       "      <td>1.0</td>\n",
       "      <td>0.0</td>\n",
       "      <td>NaN</td>\n",
       "      <td>NaN</td>\n",
       "      <td>Yarra City Council</td>\n",
       "      <td>Northern Metropolitan</td>\n",
       "      <td>4019.0</td>\n",
       "    </tr>\n",
       "    <tr>\n",
       "      <th>4</th>\n",
       "      <td>3</td>\n",
       "      <td>h</td>\n",
       "      <td>1465000.0</td>\n",
       "      <td>SP</td>\n",
       "      <td>2.5</td>\n",
       "      <td>2.0</td>\n",
       "      <td>0.0</td>\n",
       "      <td>134.0</td>\n",
       "      <td>150.0</td>\n",
       "      <td>1900.0</td>\n",
       "      <td>Yarra City Council</td>\n",
       "      <td>Northern Metropolitan</td>\n",
       "      <td>4019.0</td>\n",
       "    </tr>\n",
       "  </tbody>\n",
       "</table>\n",
       "</div>"
      ],
      "text/plain": [
       "   Rooms Type      Price Method  Distance  Bathroom  Car  Landsize  \\\n",
       "0      2    h        NaN     SS       2.5       1.0  1.0     126.0   \n",
       "1      2    h  1480000.0      S       2.5       1.0  1.0     202.0   \n",
       "2      2    h  1035000.0      S       2.5       1.0  0.0     156.0   \n",
       "3      3    u        NaN     VB       2.5       2.0  1.0       0.0   \n",
       "4      3    h  1465000.0     SP       2.5       2.0  0.0     134.0   \n",
       "\n",
       "   BuildingArea  YearBuilt         CouncilArea             Regionname  \\\n",
       "0           NaN        NaN  Yarra City Council  Northern Metropolitan   \n",
       "1           NaN        NaN  Yarra City Council  Northern Metropolitan   \n",
       "2          79.0     1900.0  Yarra City Council  Northern Metropolitan   \n",
       "3           NaN        NaN  Yarra City Council  Northern Metropolitan   \n",
       "4         150.0     1900.0  Yarra City Council  Northern Metropolitan   \n",
       "\n",
       "   Propertycount  \n",
       "0         4019.0  \n",
       "1         4019.0  \n",
       "2         4019.0  \n",
       "3         4019.0  \n",
       "4         4019.0  "
      ]
     },
     "execution_count": 14,
     "metadata": {},
     "output_type": "execute_result"
    }
   ],
   "source": [
    "#Drop Bedroom2, Latitude and Longitude\n",
    "df = df.drop(columns=['Bedroom2','Lattitude',\t'Longtitude','Postcode'])\n",
    "df.head()"
   ]
  },
  {
   "cell_type": "code",
   "execution_count": 15,
   "metadata": {
    "executionInfo": {
     "elapsed": 2919,
     "status": "ok",
     "timestamp": 1620118044866,
     "user": {
      "displayName": "Md Ameer",
      "photoUrl": "",
      "userId": "14836462514122757591"
     },
     "user_tz": -330
    },
    "id": "ynQDrcYjie3l"
   },
   "outputs": [],
   "source": [
    "# Filling the missing values \n",
    "col = ['Distance','Bathroom','Car','Propertycount']\n",
    "df[col]=df[col].fillna(0)\n",
    "df['Landsize'] = df['Landsize'].fillna(df['Landsize'].mean())\n",
    "df['BuildingArea'] = df['BuildingArea'].fillna(df['BuildingArea'].mean())\n",
    "df['YearBuilt'] = 2021-df['YearBuilt']\n",
    "df = df.dropna() # Removing the Null values from price Column"
   ]
  },
  {
   "cell_type": "code",
   "execution_count": 16,
   "metadata": {
    "colab": {
     "base_uri": "https://localhost:8080/",
     "height": 107
    },
    "executionInfo": {
     "elapsed": 2912,
     "status": "ok",
     "timestamp": 1620118044874,
     "user": {
      "displayName": "Md Ameer",
      "photoUrl": "",
      "userId": "14836462514122757591"
     },
     "user_tz": -330
    },
    "id": "hMFYtvuavz9U",
    "outputId": "19e8e21f-93ca-4e20-845c-18003404be00"
   },
   "outputs": [
    {
     "data": {
      "text/html": [
       "<div>\n",
       "<style scoped>\n",
       "    .dataframe tbody tr th:only-of-type {\n",
       "        vertical-align: middle;\n",
       "    }\n",
       "\n",
       "    .dataframe tbody tr th {\n",
       "        vertical-align: top;\n",
       "    }\n",
       "\n",
       "    .dataframe thead th {\n",
       "        text-align: right;\n",
       "    }\n",
       "</style>\n",
       "<table border=\"1\" class=\"dataframe\">\n",
       "  <thead>\n",
       "    <tr style=\"text-align: right;\">\n",
       "      <th></th>\n",
       "      <th>Rooms</th>\n",
       "      <th>Price</th>\n",
       "      <th>Distance</th>\n",
       "      <th>Bathroom</th>\n",
       "      <th>Car</th>\n",
       "      <th>Landsize</th>\n",
       "      <th>BuildingArea</th>\n",
       "      <th>YearBuilt</th>\n",
       "      <th>Propertycount</th>\n",
       "    </tr>\n",
       "  </thead>\n",
       "  <tbody>\n",
       "    <tr>\n",
       "      <th>2</th>\n",
       "      <td>2</td>\n",
       "      <td>1035000.0</td>\n",
       "      <td>2.5</td>\n",
       "      <td>1.0</td>\n",
       "      <td>0.0</td>\n",
       "      <td>156.0</td>\n",
       "      <td>79.0</td>\n",
       "      <td>121.0</td>\n",
       "      <td>4019.0</td>\n",
       "    </tr>\n",
       "    <tr>\n",
       "      <th>4</th>\n",
       "      <td>3</td>\n",
       "      <td>1465000.0</td>\n",
       "      <td>2.5</td>\n",
       "      <td>2.0</td>\n",
       "      <td>0.0</td>\n",
       "      <td>134.0</td>\n",
       "      <td>150.0</td>\n",
       "      <td>121.0</td>\n",
       "      <td>4019.0</td>\n",
       "    </tr>\n",
       "  </tbody>\n",
       "</table>\n",
       "</div>"
      ],
      "text/plain": [
       "   Rooms      Price  Distance  Bathroom  Car  Landsize  BuildingArea  \\\n",
       "2      2  1035000.0       2.5       1.0  0.0     156.0          79.0   \n",
       "4      3  1465000.0       2.5       2.0  0.0     134.0         150.0   \n",
       "\n",
       "   YearBuilt  Propertycount  \n",
       "2      121.0         4019.0  \n",
       "4      121.0         4019.0  "
      ]
     },
     "execution_count": 16,
     "metadata": {},
     "output_type": "execute_result"
    }
   ],
   "source": [
    "df2 = df.copy().select_dtypes(exclude=['object'])\n",
    "df2.head(2)\n",
    "\n"
   ]
  },
  {
   "cell_type": "code",
   "execution_count": 18,
   "metadata": {
    "colab": {
     "base_uri": "https://localhost:8080/",
     "height": 1000
    },
    "executionInfo": {
     "elapsed": 4299,
     "status": "ok",
     "timestamp": 1620118046279,
     "user": {
      "displayName": "Md Ameer",
      "photoUrl": "",
      "userId": "14836462514122757591"
     },
     "user_tz": -330
    },
    "id": "dIcfhEbFxUsU",
    "outputId": "0a045708-149c-4b16-bbcb-75c00879278d"
   },
   "outputs": [
    {
     "data": {
      "image/png": "[encoded data removed]",
      "text/plain": [
       "<Figure size 640x480 with 1 Axes>"
      ]
     },
     "metadata": {},
     "output_type": "display_data"
    },
    {
     "data": {
      "image/png": "[encoded data removed]",
      "text/plain": [
       "<Figure size 640x480 with 1 Axes>"
      ]
     },
     "metadata": {},
     "output_type": "display_data"
    },
    {
     "data": {
      "image/png": "[encoded data removed]",
      "text/plain": [
       "<Figure size 640x480 with 1 Axes>"
      ]
     },
     "metadata": {},
     "output_type": "display_data"
    },
    {
     "data": {
      "image/png": "[encoded data removed]",
      "text/plain": [
       "<Figure size 640x480 with 1 Axes>"
      ]
     },
     "metadata": {},
     "output_type": "display_data"
    },
    {
     "data": {
      "image/png": "[encoded data removed]",
      "text/plain": [
       "<Figure size 640x480 with 1 Axes>"
      ]
     },
     "metadata": {},
     "output_type": "display_data"
    },
    {
     "data": {
      "image/png": "[encoded data removed]",
      "text/plain": [
       "<Figure size 640x480 with 1 Axes>"
      ]
     },
     "metadata": {},
     "output_type": "display_data"
    },
    {
     "data": {
      "image/png": "[encoded data removed]",
      "text/plain": [
       "<Figure size 640x480 with 1 Axes>"
      ]
     },
     "metadata": {},
     "output_type": "display_data"
    },
    {
     "data": {
      "image/png": "[encoded data removed]",
      "text/plain": [
       "<Figure size 640x480 with 1 Axes>"
      ]
     },
     "metadata": {},
     "output_type": "display_data"
    },
    {
     "data": {
      "image/png": "[encoded data removed]",
      "text/plain": [
       "<Figure size 640x480 with 1 Axes>"
      ]
     },
     "metadata": {},
     "output_type": "display_data"
    }
   ],
   "source": [
    "import matplotlib.pyplot as plt\n",
    "for i in df2.columns:\n",
    "    plt.scatter(df[i],df['Price'])\n",
    "    plt.show()"
   ]
  },
  {
   "cell_type": "code",
   "execution_count": 19,
   "metadata": {
    "colab": {
     "base_uri": "https://localhost:8080/"
    },
    "executionInfo": {
     "elapsed": 4674,
     "status": "ok",
     "timestamp": 1620118046668,
     "user": {
      "displayName": "Md Ameer",
      "photoUrl": "",
      "userId": "14836462514122757591"
     },
     "user_tz": -330
    },
    "id": "XHcOeWfppJuC",
    "outputId": "9afeb19b-efac-4c0f-f2bd-5b6857255914"
   },
   "outputs": [
    {
     "name": "stdout",
     "output_type": "stream",
     "text": [
      "0.5410651622006695\n",
      "0.5139740682023648\n",
      "0.14869745658706268\n",
      "454153.61629080604\n"
     ]
    }
   ],
   "source": [
    "# Taking only numerical columns\n",
    "df2 = df.copy().select_dtypes(exclude='object')\n",
    "# Taking input and output\n",
    "x = df2.drop('Price',axis=1)\n",
    "y = df2['Price']\n",
    "# Splitting of data into training and testing\n",
    "from sklearn.model_selection import train_test_split\n",
    "x_train, x_test, y_train, y_test = train_test_split(x, y, test_size=0.3, random_state=0)\n",
    "from sklearn.linear_model import LinearRegression\n",
    "model = LinearRegression()\n",
    "model.fit(x_train,y_train)\n",
    "y_pred = model.predict(x_test)\n",
    "print(model.score(x_train,y_train))\n",
    "print(model.score(x_test,y_test))\n",
    "from sklearn.metrics import r2_score,mean_squared_error\n",
    "print(r2_score(y_pred,y_test))\n",
    "print(mean_squared_error(y_pred,y_test,squared=False))"
   ]
  },
  {
   "cell_type": "code",
   "execution_count": 20,
   "metadata": {
    "colab": {
     "base_uri": "https://localhost:8080/",
     "height": 460
    },
    "executionInfo": {
     "elapsed": 4667,
     "status": "ok",
     "timestamp": 1620118046671,
     "user": {
      "displayName": "Md Ameer",
      "photoUrl": "",
      "userId": "14836462514122757591"
     },
     "user_tz": -330
    },
    "id": "hVwfwvzni4kV",
    "outputId": "87aee1b2-e147-4a21-bc12-f1928cca37ba"
   },
   "outputs": [
    {
     "data": {
      "text/html": [
       "<div>\n",
       "<style scoped>\n",
       "    .dataframe tbody tr th:only-of-type {\n",
       "        vertical-align: middle;\n",
       "    }\n",
       "\n",
       "    .dataframe tbody tr th {\n",
       "        vertical-align: top;\n",
       "    }\n",
       "\n",
       "    .dataframe thead th {\n",
       "        text-align: right;\n",
       "    }\n",
       "</style>\n",
       "<table border=\"1\" class=\"dataframe\">\n",
       "  <thead>\n",
       "    <tr style=\"text-align: right;\">\n",
       "      <th></th>\n",
       "      <th>Rooms</th>\n",
       "      <th>Price</th>\n",
       "      <th>Distance</th>\n",
       "      <th>Bathroom</th>\n",
       "      <th>Car</th>\n",
       "      <th>Landsize</th>\n",
       "      <th>BuildingArea</th>\n",
       "      <th>YearBuilt</th>\n",
       "      <th>Propertycount</th>\n",
       "      <th>Type_t</th>\n",
       "      <th>...</th>\n",
       "      <th>CouncilArea_Wyndham City Council</th>\n",
       "      <th>CouncilArea_Yarra City Council</th>\n",
       "      <th>CouncilArea_Yarra Ranges Shire Council</th>\n",
       "      <th>Regionname_Eastern Victoria</th>\n",
       "      <th>Regionname_Northern Metropolitan</th>\n",
       "      <th>Regionname_Northern Victoria</th>\n",
       "      <th>Regionname_South-Eastern Metropolitan</th>\n",
       "      <th>Regionname_Southern Metropolitan</th>\n",
       "      <th>Regionname_Western Metropolitan</th>\n",
       "      <th>Regionname_Western Victoria</th>\n",
       "    </tr>\n",
       "  </thead>\n",
       "  <tbody>\n",
       "    <tr>\n",
       "      <th>2</th>\n",
       "      <td>2</td>\n",
       "      <td>1035000.0</td>\n",
       "      <td>2.5</td>\n",
       "      <td>1.0</td>\n",
       "      <td>0.0</td>\n",
       "      <td>156.0</td>\n",
       "      <td>79.0</td>\n",
       "      <td>121.0</td>\n",
       "      <td>4019.0</td>\n",
       "      <td>0</td>\n",
       "      <td>...</td>\n",
       "      <td>0</td>\n",
       "      <td>1</td>\n",
       "      <td>0</td>\n",
       "      <td>0</td>\n",
       "      <td>1</td>\n",
       "      <td>0</td>\n",
       "      <td>0</td>\n",
       "      <td>0</td>\n",
       "      <td>0</td>\n",
       "      <td>0</td>\n",
       "    </tr>\n",
       "    <tr>\n",
       "      <th>4</th>\n",
       "      <td>3</td>\n",
       "      <td>1465000.0</td>\n",
       "      <td>2.5</td>\n",
       "      <td>2.0</td>\n",
       "      <td>0.0</td>\n",
       "      <td>134.0</td>\n",
       "      <td>150.0</td>\n",
       "      <td>121.0</td>\n",
       "      <td>4019.0</td>\n",
       "      <td>0</td>\n",
       "      <td>...</td>\n",
       "      <td>0</td>\n",
       "      <td>1</td>\n",
       "      <td>0</td>\n",
       "      <td>0</td>\n",
       "      <td>1</td>\n",
       "      <td>0</td>\n",
       "      <td>0</td>\n",
       "      <td>0</td>\n",
       "      <td>0</td>\n",
       "      <td>0</td>\n",
       "    </tr>\n",
       "    <tr>\n",
       "      <th>6</th>\n",
       "      <td>4</td>\n",
       "      <td>1600000.0</td>\n",
       "      <td>2.5</td>\n",
       "      <td>1.0</td>\n",
       "      <td>2.0</td>\n",
       "      <td>120.0</td>\n",
       "      <td>142.0</td>\n",
       "      <td>7.0</td>\n",
       "      <td>4019.0</td>\n",
       "      <td>0</td>\n",
       "      <td>...</td>\n",
       "      <td>0</td>\n",
       "      <td>1</td>\n",
       "      <td>0</td>\n",
       "      <td>0</td>\n",
       "      <td>1</td>\n",
       "      <td>0</td>\n",
       "      <td>0</td>\n",
       "      <td>0</td>\n",
       "      <td>0</td>\n",
       "      <td>0</td>\n",
       "    </tr>\n",
       "    <tr>\n",
       "      <th>11</th>\n",
       "      <td>3</td>\n",
       "      <td>1876000.0</td>\n",
       "      <td>2.5</td>\n",
       "      <td>2.0</td>\n",
       "      <td>0.0</td>\n",
       "      <td>245.0</td>\n",
       "      <td>210.0</td>\n",
       "      <td>111.0</td>\n",
       "      <td>4019.0</td>\n",
       "      <td>0</td>\n",
       "      <td>...</td>\n",
       "      <td>0</td>\n",
       "      <td>1</td>\n",
       "      <td>0</td>\n",
       "      <td>0</td>\n",
       "      <td>1</td>\n",
       "      <td>0</td>\n",
       "      <td>0</td>\n",
       "      <td>0</td>\n",
       "      <td>0</td>\n",
       "      <td>0</td>\n",
       "    </tr>\n",
       "    <tr>\n",
       "      <th>14</th>\n",
       "      <td>2</td>\n",
       "      <td>1636000.0</td>\n",
       "      <td>2.5</td>\n",
       "      <td>1.0</td>\n",
       "      <td>2.0</td>\n",
       "      <td>256.0</td>\n",
       "      <td>107.0</td>\n",
       "      <td>131.0</td>\n",
       "      <td>4019.0</td>\n",
       "      <td>0</td>\n",
       "      <td>...</td>\n",
       "      <td>0</td>\n",
       "      <td>1</td>\n",
       "      <td>0</td>\n",
       "      <td>0</td>\n",
       "      <td>1</td>\n",
       "      <td>0</td>\n",
       "      <td>0</td>\n",
       "      <td>0</td>\n",
       "      <td>0</td>\n",
       "      <td>0</td>\n",
       "    </tr>\n",
       "    <tr>\n",
       "      <th>...</th>\n",
       "      <td>...</td>\n",
       "      <td>...</td>\n",
       "      <td>...</td>\n",
       "      <td>...</td>\n",
       "      <td>...</td>\n",
       "      <td>...</td>\n",
       "      <td>...</td>\n",
       "      <td>...</td>\n",
       "      <td>...</td>\n",
       "      <td>...</td>\n",
       "      <td>...</td>\n",
       "      <td>...</td>\n",
       "      <td>...</td>\n",
       "      <td>...</td>\n",
       "      <td>...</td>\n",
       "      <td>...</td>\n",
       "      <td>...</td>\n",
       "      <td>...</td>\n",
       "      <td>...</td>\n",
       "      <td>...</td>\n",
       "      <td>...</td>\n",
       "    </tr>\n",
       "    <tr>\n",
       "      <th>34847</th>\n",
       "      <td>3</td>\n",
       "      <td>500000.0</td>\n",
       "      <td>25.5</td>\n",
       "      <td>2.0</td>\n",
       "      <td>2.0</td>\n",
       "      <td>383.0</td>\n",
       "      <td>118.0</td>\n",
       "      <td>5.0</td>\n",
       "      <td>2940.0</td>\n",
       "      <td>0</td>\n",
       "      <td>...</td>\n",
       "      <td>0</td>\n",
       "      <td>0</td>\n",
       "      <td>0</td>\n",
       "      <td>0</td>\n",
       "      <td>1</td>\n",
       "      <td>0</td>\n",
       "      <td>0</td>\n",
       "      <td>0</td>\n",
       "      <td>0</td>\n",
       "      <td>0</td>\n",
       "    </tr>\n",
       "    <tr>\n",
       "      <th>34849</th>\n",
       "      <td>3</td>\n",
       "      <td>570000.0</td>\n",
       "      <td>25.5</td>\n",
       "      <td>2.0</td>\n",
       "      <td>2.0</td>\n",
       "      <td>404.0</td>\n",
       "      <td>158.0</td>\n",
       "      <td>9.0</td>\n",
       "      <td>2940.0</td>\n",
       "      <td>0</td>\n",
       "      <td>...</td>\n",
       "      <td>0</td>\n",
       "      <td>0</td>\n",
       "      <td>0</td>\n",
       "      <td>0</td>\n",
       "      <td>1</td>\n",
       "      <td>0</td>\n",
       "      <td>0</td>\n",
       "      <td>0</td>\n",
       "      <td>0</td>\n",
       "      <td>0</td>\n",
       "    </tr>\n",
       "    <tr>\n",
       "      <th>34853</th>\n",
       "      <td>2</td>\n",
       "      <td>888000.0</td>\n",
       "      <td>6.3</td>\n",
       "      <td>2.0</td>\n",
       "      <td>1.0</td>\n",
       "      <td>98.0</td>\n",
       "      <td>104.0</td>\n",
       "      <td>3.0</td>\n",
       "      <td>6543.0</td>\n",
       "      <td>0</td>\n",
       "      <td>...</td>\n",
       "      <td>0</td>\n",
       "      <td>0</td>\n",
       "      <td>0</td>\n",
       "      <td>0</td>\n",
       "      <td>0</td>\n",
       "      <td>0</td>\n",
       "      <td>0</td>\n",
       "      <td>0</td>\n",
       "      <td>1</td>\n",
       "      <td>0</td>\n",
       "    </tr>\n",
       "    <tr>\n",
       "      <th>34854</th>\n",
       "      <td>2</td>\n",
       "      <td>705000.0</td>\n",
       "      <td>6.3</td>\n",
       "      <td>1.0</td>\n",
       "      <td>2.0</td>\n",
       "      <td>220.0</td>\n",
       "      <td>120.0</td>\n",
       "      <td>21.0</td>\n",
       "      <td>6543.0</td>\n",
       "      <td>1</td>\n",
       "      <td>...</td>\n",
       "      <td>0</td>\n",
       "      <td>0</td>\n",
       "      <td>0</td>\n",
       "      <td>0</td>\n",
       "      <td>0</td>\n",
       "      <td>0</td>\n",
       "      <td>0</td>\n",
       "      <td>0</td>\n",
       "      <td>1</td>\n",
       "      <td>0</td>\n",
       "    </tr>\n",
       "    <tr>\n",
       "      <th>34856</th>\n",
       "      <td>2</td>\n",
       "      <td>1020000.0</td>\n",
       "      <td>6.3</td>\n",
       "      <td>1.0</td>\n",
       "      <td>0.0</td>\n",
       "      <td>250.0</td>\n",
       "      <td>103.0</td>\n",
       "      <td>91.0</td>\n",
       "      <td>6543.0</td>\n",
       "      <td>0</td>\n",
       "      <td>...</td>\n",
       "      <td>0</td>\n",
       "      <td>0</td>\n",
       "      <td>0</td>\n",
       "      <td>0</td>\n",
       "      <td>0</td>\n",
       "      <td>0</td>\n",
       "      <td>0</td>\n",
       "      <td>0</td>\n",
       "      <td>1</td>\n",
       "      <td>0</td>\n",
       "    </tr>\n",
       "  </tbody>\n",
       "</table>\n",
       "<p>12084 rows × 54 columns</p>\n",
       "</div>"
      ],
      "text/plain": [
       "       Rooms      Price  Distance  Bathroom  Car  Landsize  BuildingArea  \\\n",
       "2          2  1035000.0       2.5       1.0  0.0     156.0          79.0   \n",
       "4          3  1465000.0       2.5       2.0  0.0     134.0         150.0   \n",
       "6          4  1600000.0       2.5       1.0  2.0     120.0         142.0   \n",
       "11         3  1876000.0       2.5       2.0  0.0     245.0         210.0   \n",
       "14         2  1636000.0       2.5       1.0  2.0     256.0         107.0   \n",
       "...      ...        ...       ...       ...  ...       ...           ...   \n",
       "34847      3   500000.0      25.5       2.0  2.0     383.0         118.0   \n",
       "34849      3   570000.0      25.5       2.0  2.0     404.0         158.0   \n",
       "34853      2   888000.0       6.3       2.0  1.0      98.0         104.0   \n",
       "34854      2   705000.0       6.3       1.0  2.0     220.0         120.0   \n",
       "34856      2  1020000.0       6.3       1.0  0.0     250.0         103.0   \n",
       "\n",
       "       YearBuilt  Propertycount  Type_t  ...  \\\n",
       "2          121.0         4019.0       0  ...   \n",
       "4          121.0         4019.0       0  ...   \n",
       "6            7.0         4019.0       0  ...   \n",
       "11         111.0         4019.0       0  ...   \n",
       "14         131.0         4019.0       0  ...   \n",
       "...          ...            ...     ...  ...   \n",
       "34847        5.0         2940.0       0  ...   \n",
       "34849        9.0         2940.0       0  ...   \n",
       "34853        3.0         6543.0       0  ...   \n",
       "34854       21.0         6543.0       1  ...   \n",
       "34856       91.0         6543.0       0  ...   \n",
       "\n",
       "       CouncilArea_Wyndham City Council  CouncilArea_Yarra City Council  \\\n",
       "2                                     0                               1   \n",
       "4                                     0                               1   \n",
       "6                                     0                               1   \n",
       "11                                    0                               1   \n",
       "14                                    0                               1   \n",
       "...                                 ...                             ...   \n",
       "34847                                 0                               0   \n",
       "34849                                 0                               0   \n",
       "34853                                 0                               0   \n",
       "34854                                 0                               0   \n",
       "34856                                 0                               0   \n",
       "\n",
       "       CouncilArea_Yarra Ranges Shire Council  Regionname_Eastern Victoria  \\\n",
       "2                                           0                            0   \n",
       "4                                           0                            0   \n",
       "6                                           0                            0   \n",
       "11                                          0                            0   \n",
       "14                                          0                            0   \n",
       "...                                       ...                          ...   \n",
       "34847                                       0                            0   \n",
       "34849                                       0                            0   \n",
       "34853                                       0                            0   \n",
       "34854                                       0                            0   \n",
       "34856                                       0                            0   \n",
       "\n",
       "       Regionname_Northern Metropolitan  Regionname_Northern Victoria  \\\n",
       "2                                     1                             0   \n",
       "4                                     1                             0   \n",
       "6                                     1                             0   \n",
       "11                                    1                             0   \n",
       "14                                    1                             0   \n",
       "...                                 ...                           ...   \n",
       "34847                                 1                             0   \n",
       "34849                                 1                             0   \n",
       "34853                                 0                             0   \n",
       "34854                                 0                             0   \n",
       "34856                                 0                             0   \n",
       "\n",
       "       Regionname_South-Eastern Metropolitan  \\\n",
       "2                                          0   \n",
       "4                                          0   \n",
       "6                                          0   \n",
       "11                                         0   \n",
       "14                                         0   \n",
       "...                                      ...   \n",
       "34847                                      0   \n",
       "34849                                      0   \n",
       "34853                                      0   \n",
       "34854                                      0   \n",
       "34856                                      0   \n",
       "\n",
       "       Regionname_Southern Metropolitan  Regionname_Western Metropolitan  \\\n",
       "2                                     0                                0   \n",
       "4                                     0                                0   \n",
       "6                                     0                                0   \n",
       "11                                    0                                0   \n",
       "14                                    0                                0   \n",
       "...                                 ...                              ...   \n",
       "34847                                 0                                0   \n",
       "34849                                 0                                0   \n",
       "34853                                 0                                1   \n",
       "34854                                 0                                1   \n",
       "34856                                 0                                1   \n",
       "\n",
       "       Regionname_Western Victoria  \n",
       "2                                0  \n",
       "4                                0  \n",
       "6                                0  \n",
       "11                               0  \n",
       "14                               0  \n",
       "...                            ...  \n",
       "34847                            0  \n",
       "34849                            0  \n",
       "34853                            0  \n",
       "34854                            0  \n",
       "34856                            0  \n",
       "\n",
       "[12084 rows x 54 columns]"
      ]
     },
     "execution_count": 20,
     "metadata": {},
     "output_type": "execute_result"
    }
   ],
   "source": [
    "df = pd.get_dummies(df,drop_first=True)\n",
    "df"
   ]
  },
  {
   "cell_type": "code",
   "execution_count": 21,
   "metadata": {
    "executionInfo": {
     "elapsed": 4653,
     "status": "ok",
     "timestamp": 1620118046675,
     "user": {
      "displayName": "Md Ameer",
      "photoUrl": "",
      "userId": "14836462514122757591"
     },
     "user_tz": -330
    },
    "id": "FNJxjea22ncX"
   },
   "outputs": [],
   "source": [
    "# Taking input and output\n",
    "x = df.drop('Price',axis=1)\n",
    "y = df['Price']"
   ]
  },
  {
   "cell_type": "code",
   "execution_count": 22,
   "metadata": {
    "executionInfo": {
     "elapsed": 4647,
     "status": "ok",
     "timestamp": 1620118046677,
     "user": {
      "displayName": "Md Ameer",
      "photoUrl": "",
      "userId": "14836462514122757591"
     },
     "user_tz": -330
    },
    "id": "CdS4qKC-3HeF"
   },
   "outputs": [],
   "source": [
    "# Splitting of data into training and testing\n",
    "from sklearn.model_selection import train_test_split\n",
    "x_train, x_test, y_train, y_test = train_test_split(x, y, test_size=0.3, random_state=0)"
   ]
  },
  {
   "cell_type": "code",
   "execution_count": 23,
   "metadata": {
    "colab": {
     "base_uri": "https://localhost:8080/"
    },
    "executionInfo": {
     "elapsed": 4639,
     "status": "ok",
     "timestamp": 1620118046678,
     "user": {
      "displayName": "Md Ameer",
      "photoUrl": "",
      "userId": "14836462514122757591"
     },
     "user_tz": -330
    },
    "id": "W1InPm3s4QI6",
    "outputId": "fe37a7dd-1f2a-476e-b427-d990e724848f",
    "scrolled": true
   },
   "outputs": [
    {
     "name": "stdout",
     "output_type": "stream",
     "text": [
      "0.6811795639394685\n",
      "0.6703889225117767\n",
      "0.5299150846222644\n",
      "374002.02648861066\n"
     ]
    }
   ],
   "source": [
    "from sklearn.linear_model import LinearRegression\n",
    "model = LinearRegression()\n",
    "model.fit(x_train,y_train)\n",
    "y_pred = model.predict(x_test)\n",
    "print(model.score(x_train,y_train))\n",
    "print(model.score(x_test,y_test))\n",
    "from sklearn.metrics import r2_score,mean_squared_error\n",
    "print(r2_score(y_pred,y_test))\n",
    "print(mean_squared_error(y_pred,y_test,squared=False))"
   ]
  },
  {
   "cell_type": "code",
   "execution_count": 25,
   "metadata": {},
   "outputs": [
    {
     "name": "stdout",
     "output_type": "stream",
     "text": [
      "Collecting xgboost\n",
      "  Downloading xgboost-1.7.5-py3-none-win_amd64.whl (70.9 MB)\n",
      "     ---------------------------------------- 70.9/70.9 MB 1.8 MB/s eta 0:00:00\n",
      "Requirement already satisfied: numpy in c:\\anaconda\\lib\\site-packages (from xgboost) (1.21.5)\n",
      "Requirement already satisfied: scipy in c:\\anaconda\\lib\\site-packages (from xgboost) (1.9.1)\n",
      "Installing collected packages: xgboost\n",
      "Successfully installed xgboost-1.7.5\n",
      "Note: you may need to restart the kernel to use updated packages.\n"
     ]
    }
   ],
   "source": [
    "pip install xgboost"
   ]
  },
  {
   "cell_type": "code",
   "execution_count": 26,
   "metadata": {
    "colab": {
     "base_uri": "https://localhost:8080/"
    },
    "executionInfo": {
     "elapsed": 6527,
     "status": "ok",
     "timestamp": 1620118048575,
     "user": {
      "displayName": "Md Ameer",
      "photoUrl": "",
      "userId": "14836462514122757591"
     },
     "user_tz": -330
    },
    "id": "9pH-uzMSlmic",
    "outputId": "bc79ee7f-d255-444b-f861-b041e4aa5f70"
   },
   "outputs": [
    {
     "name": "stdout",
     "output_type": "stream",
     "text": [
      "0.9614926969459093\n",
      "0.8128860292441484\n",
      "0.7818424541884206\n",
      "281790.38047588273\n"
     ]
    }
   ],
   "source": [
    "from xgboost import XGBRegressor\n",
    "\n",
    "# Defining Regressor\n",
    "model = XGBRegressor()\n",
    "# Fitting Model\n",
    "model.fit(x_train, y_train, verbose=False)\n",
    "y_pred = model.predict(x_test)\n",
    "print(model.score(x_train,y_train))\n",
    "print(model.score(x_test,y_test))\n",
    "from sklearn.metrics import r2_score,mean_squared_error\n",
    "print(r2_score(y_pred,y_test))\n",
    "print(mean_squared_error(y_pred,y_test,squared=False))"
   ]
  },
  {
   "cell_type": "code",
   "execution_count": 27,
   "metadata": {
    "colab": {
     "base_uri": "https://localhost:8080/",
     "height": 306
    },
    "executionInfo": {
     "elapsed": 6520,
     "status": "ok",
     "timestamp": 1620118048577,
     "user": {
      "displayName": "Md Ameer",
      "photoUrl": "",
      "userId": "14836462514122757591"
     },
     "user_tz": -330
    },
    "id": "pGBuvJ0boGiw",
    "outputId": "45771487-6f13-4f94-ed40-8ab9ae1fc00d"
   },
   "outputs": [
    {
     "data": {
      "text/plain": [
       "<matplotlib.collections.PathCollection at 0x1f53d29e760>"
      ]
     },
     "execution_count": 27,
     "metadata": {},
     "output_type": "execute_result"
    },
    {
     "data": {
      "image/png": "[encoded data removed]",
      "text/plain": [
       "<Figure size 640x480 with 1 Axes>"
      ]
     },
     "metadata": {},
     "output_type": "display_data"
    }
   ],
   "source": [
    "# Actual v predictions scatter\n",
    "import matplotlib.pyplot as plt\n",
    "plt.scatter(y_test, y_pred)"
   ]
  },
  {
   "cell_type": "code",
   "execution_count": 28,
   "metadata": {
    "colab": {
     "base_uri": "https://localhost:8080/",
     "height": 345
    },
    "executionInfo": {
     "elapsed": 1016,
     "status": "ok",
     "timestamp": 1620118124488,
     "user": {
      "displayName": "Md Ameer",
      "photoUrl": "",
      "userId": "14836462514122757591"
     },
     "user_tz": -330
    },
    "id": "hghkPr9ww7AL",
    "outputId": "fed780b5-9cba-4692-ad1b-ab5ec150141a"
   },
   "outputs": [
    {
     "name": "stderr",
     "output_type": "stream",
     "text": [
      "C:\\Anaconda\\lib\\site-packages\\seaborn\\_decorators.py:36: FutureWarning: Pass the following variables as keyword args: x, y. From version 0.12, the only valid positional argument will be `data`, and passing other arguments without an explicit keyword will result in an error or misinterpretation.\n",
      "  warnings.warn(\n"
     ]
    },
    {
     "data": {
      "image/png": "[encoded data removed]",
      "text/plain": [
       "<Figure size 640x480 with 1 Axes>"
      ]
     },
     "metadata": {},
     "output_type": "display_data"
    }
   ],
   "source": [
    "import seaborn as sns\n",
    "sns.residplot(y_test,y_pred)\n",
    "  \n",
    "# show the plot\n",
    "plt.show()"
   ]
  },
  {
   "cell_type": "code",
   "execution_count": null,
   "metadata": {
    "executionInfo": {
     "elapsed": 7355,
     "status": "aborted",
     "timestamp": 1620118049438,
     "user": {
      "displayName": "Md Ameer",
      "photoUrl": "",
      "userId": "14836462514122757591"
     },
     "user_tz": -330
    },
    "id": "pvKVakG2jwZr"
   },
   "outputs": [],
   "source": []
  }
 ],
 "metadata": {
  "colab": {
   "authorship_tag": "ABX9TyPi/1o9MNYGqCIjuE5LIovY",
   "collapsed_sections": [],
   "name": "Linear Regression- Melbourne.ipynb",
   "provenance": []
  },
  "kernelspec": {
   "display_name": "Python 3 (ipykernel)",
   "language": "python",
   "name": "python3"
  },
  "language_info": {
   "codemirror_mode": {
    "name": "ipython",
    "version": 3
   },
   "file_extension": ".py",
   "mimetype": "text/x-python",
   "name": "python",
   "nbconvert_exporter": "python",
   "pygments_lexer": "ipython3",
   "version": "3.9.13"
  }
 },
 "nbformat": 4,
 "nbformat_minor": 1
}
