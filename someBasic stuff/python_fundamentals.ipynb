{
 "cells": [
  {
   "cell_type": "markdown",
   "id": "eb32c44a",
   "metadata": {},
   "source": [
    "### Assigning Values to Variable"
   ]
  },
  {
   "cell_type": "markdown",
   "id": "afdc2461",
   "metadata": {},
   "source": [
    "Python variables do not need explicit declaration to reserve memory space. The declaration happens automatically when you assign a value to a variable. The equal sign (=) is used to assign values to variables."
   ]
  },
  {
   "cell_type": "code",
   "execution_count": 1,
   "id": "e3ef444e",
   "metadata": {},
   "outputs": [],
   "source": [
    "name = 'python'"
   ]
  },
  {
   "cell_type": "code",
   "execution_count": 2,
   "id": "7713f4bb",
   "metadata": {},
   "outputs": [],
   "source": [
    "a = 10"
   ]
  },
  {
   "cell_type": "code",
   "execution_count": 3,
   "id": "9aa1f47e",
   "metadata": {},
   "outputs": [],
   "source": [
    "b = 20"
   ]
  },
  {
   "cell_type": "markdown",
   "id": "d48a1d26",
   "metadata": {},
   "source": [
    "### MultipleAssignment"
   ]
  },
  {
   "cell_type": "markdown",
   "id": "23dd4674",
   "metadata": {},
   "source": [
    "Python allows you to assign a single value to several variables simultaneously. For example –"
   ]
  },
  {
   "cell_type": "code",
   "execution_count": 5,
   "id": "6b6c2782",
   "metadata": {},
   "outputs": [],
   "source": [
    "count = 100                   #Integer Assignment\n",
    "kilometers = 1000.0           #Float Assignment\n",
    "name = 'Rakul'                #String Assignment"
   ]
  },
  {
   "cell_type": "code",
   "execution_count": 6,
   "id": "5b3915ec",
   "metadata": {},
   "outputs": [
    {
     "name": "stdout",
     "output_type": "stream",
     "text": [
      "100 1000.0 Rakul\n"
     ]
    }
   ],
   "source": [
    "print(count, kilometers, name)"
   ]
  },
  {
   "cell_type": "code",
   "execution_count": 7,
   "id": "aad7dc6a",
   "metadata": {},
   "outputs": [
    {
     "name": "stdout",
     "output_type": "stream",
     "text": [
      "1,2,john\n"
     ]
    }
   ],
   "source": [
    "a, b , c = 1, 2, 'john'\n",
    "print(a, b, c, sep=',')"
   ]
  },
  {
   "cell_type": "markdown",
   "id": "4e1cf241",
   "metadata": {},
   "source": [
    "Here, an integer object is created with the value 1, and all three variables are assigned to the same memory location."
   ]
  },
  {
   "cell_type": "code",
   "execution_count": 8,
   "id": "7686f4b2",
   "metadata": {},
   "outputs": [],
   "source": [
    "a = b = c = 1"
   ]
  },
  {
   "cell_type": "code",
   "execution_count": 15,
   "id": "602e8c0c",
   "metadata": {},
   "outputs": [
    {
     "name": "stdout",
     "output_type": "stream",
     "text": [
      "1 1 1\n"
     ]
    }
   ],
   "source": [
    "print(a,b,c)"
   ]
  },
  {
   "cell_type": "markdown",
   "id": "f3c40083",
   "metadata": {},
   "source": [
    "### Python Numbers"
   ]
  },
  {
   "cell_type": "markdown",
   "id": "95c3f6e5",
   "metadata": {},
   "source": [
    "Number data types store numeric values. Number objects are created when you assign a value to them"
   ]
  },
  {
   "cell_type": "code",
   "execution_count": 16,
   "id": "d2888a29",
   "metadata": {},
   "outputs": [],
   "source": [
    "a = 10"
   ]
  },
  {
   "cell_type": "code",
   "execution_count": 17,
   "id": "d1635d0e",
   "metadata": {
    "scrolled": true
   },
   "outputs": [
    {
     "data": {
      "text/plain": [
       "10"
      ]
     },
     "execution_count": 17,
     "metadata": {},
     "output_type": "execute_result"
    }
   ],
   "source": [
    "a"
   ]
  },
  {
   "cell_type": "code",
   "execution_count": 18,
   "id": "7436d17c",
   "metadata": {},
   "outputs": [],
   "source": [
    "#MultipleAssignment\n",
    "\n",
    "b,c,d  = 11,12,13"
   ]
  },
  {
   "cell_type": "code",
   "execution_count": 19,
   "id": "ef302734",
   "metadata": {
    "scrolled": false
   },
   "outputs": [
    {
     "name": "stdout",
     "output_type": "stream",
     "text": [
      "10 11 12 13\n"
     ]
    }
   ],
   "source": [
    "print(a,b,c,d)"
   ]
  },
  {
   "cell_type": "markdown",
   "id": "aea39dbc",
   "metadata": {},
   "source": [
    "You can also delete the reference to a number object by using the del statement. The syntax of the del statement is –"
   ]
  },
  {
   "cell_type": "code",
   "execution_count": 20,
   "id": "f310a2df",
   "metadata": {},
   "outputs": [],
   "source": [
    "del d"
   ]
  },
  {
   "cell_type": "code",
   "execution_count": 21,
   "id": "245332ca",
   "metadata": {},
   "outputs": [
    {
     "ename": "NameError",
     "evalue": "name 'd' is not defined",
     "output_type": "error",
     "traceback": [
      "\u001b[1;31m---------------------------------------------------------------------------\u001b[0m",
      "\u001b[1;31mNameError\u001b[0m                                 Traceback (most recent call last)",
      "\u001b[1;32m~\\AppData\\Local\\Temp\\ipykernel_8036\\3161387801.py\u001b[0m in \u001b[0;36m<module>\u001b[1;34m\u001b[0m\n\u001b[1;32m----> 1\u001b[1;33m \u001b[0md\u001b[0m\u001b[1;33m\u001b[0m\u001b[1;33m\u001b[0m\u001b[0m\n\u001b[0m",
      "\u001b[1;31mNameError\u001b[0m: name 'd' is not defined"
     ]
    }
   ],
   "source": [
    "d"
   ]
  },
  {
   "cell_type": "markdown",
   "id": "70a139d7",
   "metadata": {},
   "source": [
    "You can also delete multiple objects by using the del statement. For example"
   ]
  },
  {
   "cell_type": "code",
   "execution_count": 22,
   "id": "d614ca98",
   "metadata": {},
   "outputs": [],
   "source": [
    "del b,c"
   ]
  },
  {
   "cell_type": "code",
   "execution_count": 23,
   "id": "10df7dfe",
   "metadata": {},
   "outputs": [
    {
     "ename": "NameError",
     "evalue": "name 'b' is not defined",
     "output_type": "error",
     "traceback": [
      "\u001b[1;31m---------------------------------------------------------------------------\u001b[0m",
      "\u001b[1;31mNameError\u001b[0m                                 Traceback (most recent call last)",
      "\u001b[1;32m~\\AppData\\Local\\Temp\\ipykernel_8036\\1685013873.py\u001b[0m in \u001b[0;36m<module>\u001b[1;34m\u001b[0m\n\u001b[1;32m----> 1\u001b[1;33m \u001b[0mb\u001b[0m\u001b[1;33m\u001b[0m\u001b[1;33m\u001b[0m\u001b[0m\n\u001b[0m",
      "\u001b[1;31mNameError\u001b[0m: name 'b' is not defined"
     ]
    }
   ],
   "source": [
    "b"
   ]
  },
  {
   "cell_type": "markdown",
   "id": "03937155",
   "metadata": {},
   "source": [
    "### Numerical Data Types"
   ]
  },
  {
   "cell_type": "code",
   "execution_count": 24,
   "id": "e807e50d",
   "metadata": {},
   "outputs": [
    {
     "data": {
      "text/plain": [
       "int"
      ]
     },
     "execution_count": 24,
     "metadata": {},
     "output_type": "execute_result"
    }
   ],
   "source": [
    "a = 10\n",
    "type(a)"
   ]
  },
  {
   "cell_type": "code",
   "execution_count": 25,
   "id": "ea4b9a71",
   "metadata": {},
   "outputs": [
    {
     "data": {
      "text/plain": [
       "float"
      ]
     },
     "execution_count": 25,
     "metadata": {},
     "output_type": "execute_result"
    }
   ],
   "source": [
    "a = 32.3\n",
    "type(a)"
   ]
  },
  {
   "cell_type": "markdown",
   "id": "805c0e8a",
   "metadata": {},
   "source": [
    "A complex number consists of an ordered pair of real floating point numbers denoted by x + yj, where x and y are the real numbers and j is the imaginary unit."
   ]
  },
  {
   "cell_type": "code",
   "execution_count": 26,
   "id": "dca86c21",
   "metadata": {},
   "outputs": [
    {
     "data": {
      "text/plain": [
       "complex"
      ]
     },
     "execution_count": 26,
     "metadata": {},
     "output_type": "execute_result"
    }
   ],
   "source": [
    "b = 3.15j\n",
    "type(b)"
   ]
  },
  {
   "cell_type": "markdown",
   "id": "0d798fd7",
   "metadata": {},
   "source": [
    "### Python Strings\n"
   ]
  },
  {
   "cell_type": "markdown",
   "id": "e3d1b398",
   "metadata": {},
   "source": [
    "Strings in Python are identified as a contiguous set of characters represented in the quotation marks. Python allows either pair of single or double quotes."
   ]
  },
  {
   "cell_type": "markdown",
   "id": "4ec2b698",
   "metadata": {},
   "source": [
    "The plus (+) sign is the string concatenation operator and the asterisk (*) is the repetition operator."
   ]
  },
  {
   "cell_type": "code",
   "execution_count": 27,
   "id": "ba28aa32",
   "metadata": {},
   "outputs": [],
   "source": [
    "str1 = 'Python is a programming language'"
   ]
  },
  {
   "cell_type": "code",
   "execution_count": 28,
   "id": "7e55fb9c",
   "metadata": {},
   "outputs": [
    {
     "name": "stdout",
     "output_type": "stream",
     "text": [
      "Python is a programming language\n"
     ]
    }
   ],
   "source": [
    "print(str1)"
   ]
  },
  {
   "cell_type": "code",
   "execution_count": 29,
   "id": "22a59f22",
   "metadata": {},
   "outputs": [
    {
     "name": "stdout",
     "output_type": "stream",
     "text": [
      "P\n"
     ]
    }
   ],
   "source": [
    "print(str1[0])"
   ]
  },
  {
   "cell_type": "code",
   "execution_count": 30,
   "id": "65d62c0f",
   "metadata": {},
   "outputs": [
    {
     "name": "stdout",
     "output_type": "stream",
     "text": [
      "hon is \n"
     ]
    }
   ],
   "source": [
    "print(str1[3:10])"
   ]
  },
  {
   "cell_type": "code",
   "execution_count": 31,
   "id": "5c0eae74",
   "metadata": {},
   "outputs": [
    {
     "name": "stdout",
     "output_type": "stream",
     "text": [
      " is a progr\n"
     ]
    }
   ],
   "source": [
    "print(str1[6:17])"
   ]
  },
  {
   "cell_type": "code",
   "execution_count": 32,
   "id": "5bad24e0",
   "metadata": {
    "scrolled": true
   },
   "outputs": [
    {
     "name": "stdout",
     "output_type": "stream",
     "text": [
      "Python is a programming language\n"
     ]
    }
   ],
   "source": [
    "print(str1[:])"
   ]
  },
  {
   "cell_type": "code",
   "execution_count": 60,
   "id": "d03a7e43",
   "metadata": {},
   "outputs": [
    {
     "name": "stdout",
     "output_type": "stream",
     "text": [
      "e\n"
     ]
    }
   ],
   "source": [
    "print(str1[-1])"
   ]
  },
  {
   "cell_type": "code",
   "execution_count": 61,
   "id": "c1b0e47f",
   "metadata": {},
   "outputs": [
    {
     "name": "stdout",
     "output_type": "stream",
     "text": [
      "language\n"
     ]
    }
   ],
   "source": [
    "print(str1[-8:])"
   ]
  },
  {
   "cell_type": "markdown",
   "id": "315c95b9",
   "metadata": {},
   "source": [
    "### Deleting/Updating from a String"
   ]
  },
  {
   "cell_type": "markdown",
   "id": "ff13393c",
   "metadata": {},
   "source": [
    "In Python, Updating or deletion of characters from a String is not allowed. This will cause an error because item assignment or item deletion from a String is not supported."
   ]
  },
  {
   "cell_type": "code",
   "execution_count": 62,
   "id": "76f8748e",
   "metadata": {},
   "outputs": [
    {
     "ename": "TypeError",
     "evalue": "'str' object does not support item assignment",
     "output_type": "error",
     "traceback": [
      "\u001b[1;31m---------------------------------------------------------------------------\u001b[0m",
      "\u001b[1;31mTypeError\u001b[0m                                 Traceback (most recent call last)",
      "\u001b[1;32m~\\AppData\\Local\\Temp\\ipykernel_8036\\3570151630.py\u001b[0m in \u001b[0;36m<module>\u001b[1;34m\u001b[0m\n\u001b[0;32m      1\u001b[0m \u001b[1;31m#updating of a character\u001b[0m\u001b[1;33m\u001b[0m\u001b[1;33m\u001b[0m\u001b[0m\n\u001b[1;32m----> 2\u001b[1;33m \u001b[0mstr1\u001b[0m\u001b[1;33m[\u001b[0m\u001b[1;36m0\u001b[0m\u001b[1;33m]\u001b[0m \u001b[1;33m=\u001b[0m \u001b[1;34m'A'\u001b[0m\u001b[1;33m\u001b[0m\u001b[1;33m\u001b[0m\u001b[0m\n\u001b[0m",
      "\u001b[1;31mTypeError\u001b[0m: 'str' object does not support item assignment"
     ]
    }
   ],
   "source": [
    "#updating of a character\n",
    "str1[0] = 'A'"
   ]
  },
  {
   "cell_type": "code",
   "execution_count": 63,
   "id": "f57b2f3d",
   "metadata": {},
   "outputs": [
    {
     "ename": "TypeError",
     "evalue": "'str' object doesn't support item deletion",
     "output_type": "error",
     "traceback": [
      "\u001b[1;31m---------------------------------------------------------------------------\u001b[0m",
      "\u001b[1;31mTypeError\u001b[0m                                 Traceback (most recent call last)",
      "\u001b[1;32m~\\AppData\\Local\\Temp\\ipykernel_8036\\802234004.py\u001b[0m in \u001b[0;36m<module>\u001b[1;34m\u001b[0m\n\u001b[0;32m      1\u001b[0m \u001b[1;31m#deleting of a character\u001b[0m\u001b[1;33m\u001b[0m\u001b[1;33m\u001b[0m\u001b[0m\n\u001b[1;32m----> 2\u001b[1;33m \u001b[1;32mdel\u001b[0m \u001b[0mstr1\u001b[0m\u001b[1;33m[\u001b[0m\u001b[1;36m1\u001b[0m\u001b[1;33m]\u001b[0m\u001b[1;33m\u001b[0m\u001b[1;33m\u001b[0m\u001b[0m\n\u001b[0m",
      "\u001b[1;31mTypeError\u001b[0m: 'str' object doesn't support item deletion"
     ]
    }
   ],
   "source": [
    "#deleting of a character\n",
    "del str1[1]"
   ]
  },
  {
   "cell_type": "code",
   "execution_count": 64,
   "id": "2d727e18",
   "metadata": {},
   "outputs": [
    {
     "name": "stdout",
     "output_type": "stream",
     "text": [
      "New string\n"
     ]
    }
   ],
   "source": [
    "#updating entire string\n",
    "str1 = 'New string'\n",
    "print(str1)"
   ]
  },
  {
   "cell_type": "code",
   "execution_count": 65,
   "id": "d18e1f90",
   "metadata": {},
   "outputs": [],
   "source": [
    "#deleting of entire string\n",
    "del str1"
   ]
  },
  {
   "cell_type": "code",
   "execution_count": 66,
   "id": "ec1294ed",
   "metadata": {},
   "outputs": [
    {
     "ename": "NameError",
     "evalue": "name 'str1' is not defined",
     "output_type": "error",
     "traceback": [
      "\u001b[1;31m---------------------------------------------------------------------------\u001b[0m",
      "\u001b[1;31mNameError\u001b[0m                                 Traceback (most recent call last)",
      "\u001b[1;32m~\\AppData\\Local\\Temp\\ipykernel_8036\\934771681.py\u001b[0m in \u001b[0;36m<module>\u001b[1;34m\u001b[0m\n\u001b[1;32m----> 1\u001b[1;33m \u001b[0mstr1\u001b[0m\u001b[1;33m\u001b[0m\u001b[1;33m\u001b[0m\u001b[0m\n\u001b[0m",
      "\u001b[1;31mNameError\u001b[0m: name 'str1' is not defined"
     ]
    }
   ],
   "source": [
    "str1"
   ]
  },
  {
   "cell_type": "markdown",
   "id": "03092ba6",
   "metadata": {},
   "source": [
    "### String Formatting"
   ]
  },
  {
   "cell_type": "markdown",
   "id": "c4bc697a",
   "metadata": {},
   "source": [
    "Strings in Python can be formatted with the use of format() method which is very versatile and powerful tool for formatting of Strings.\n"
   ]
  },
  {
   "cell_type": "markdown",
   "id": "2b5e6a26",
   "metadata": {},
   "source": [
    "Format method in String contains curly braces {} as placeholders which can hold arguments according to position or keyword to specify the order.\n"
   ]
  },
  {
   "cell_type": "code",
   "execution_count": 67,
   "id": "f899499d",
   "metadata": {},
   "outputs": [
    {
     "name": "stdout",
     "output_type": "stream",
     "text": [
      "print string in deafult order:\n",
      "python programming language\n"
     ]
    }
   ],
   "source": [
    "#default order\n",
    "str1 = '{} {} {}'.format('python', 'programming', 'language')\n",
    "print('print string in deafult order:')\n",
    "print(str1)"
   ]
  },
  {
   "cell_type": "code",
   "execution_count": 68,
   "id": "bbec8766",
   "metadata": {},
   "outputs": [
    {
     "name": "stdout",
     "output_type": "stream",
     "text": [
      "print string in positional order:\n",
      "programming python language\n"
     ]
    }
   ],
   "source": [
    "#positional order\n",
    "str1 = '{1} {0} {2}'.format('python', 'programming', 'language')\n",
    "print('print string in positional order:')\n",
    "print(str1)"
   ]
  },
  {
   "cell_type": "code",
   "execution_count": 69,
   "id": "930c4f42",
   "metadata": {},
   "outputs": [
    {
     "name": "stdout",
     "output_type": "stream",
     "text": [
      "print string in kwyword order:\n",
      "python programming language\n"
     ]
    }
   ],
   "source": [
    "#keyword order\n",
    "str1 = '{a} {b} {c}'.format(a='python', b='programming', c='language')\n",
    "print('print string in kwyword order:')\n",
    "print(str1)"
   ]
  },
  {
   "cell_type": "markdown",
   "id": "cfd6b784",
   "metadata": {},
   "source": [
    "### Python List"
   ]
  },
  {
   "cell_type": "markdown",
   "id": "5f2dc6eb",
   "metadata": {},
   "source": [
    "Lists are the most versatile of Python's compound data types."
   ]
  },
  {
   "cell_type": "markdown",
   "id": "5ed52b69",
   "metadata": {},
   "source": [
    "A list contains items separated by commas and enclosed within square brackets ([]). To some extent, lists are like arrays in C"
   ]
  },
  {
   "cell_type": "code",
   "execution_count": 70,
   "id": "1dc9f914",
   "metadata": {},
   "outputs": [],
   "source": [
    "lst = [1,2,3,'sam',4.5]"
   ]
  },
  {
   "cell_type": "code",
   "execution_count": 71,
   "id": "a4749b3f",
   "metadata": {},
   "outputs": [
    {
     "data": {
      "text/plain": [
       "[1, 2, 3, 'sam', 4.5]"
      ]
     },
     "execution_count": 71,
     "metadata": {},
     "output_type": "execute_result"
    }
   ],
   "source": [
    "lst"
   ]
  },
  {
   "cell_type": "code",
   "execution_count": 72,
   "id": "23e2e1d1",
   "metadata": {},
   "outputs": [
    {
     "data": {
      "text/plain": [
       "[2, 3, 'sam']"
      ]
     },
     "execution_count": 72,
     "metadata": {},
     "output_type": "execute_result"
    }
   ],
   "source": [
    "lst[1:4]"
   ]
  },
  {
   "cell_type": "markdown",
   "id": "59f3dea7",
   "metadata": {},
   "source": [
    "One difference between them is that all the items belonging to a list can be of different data type"
   ]
  },
  {
   "cell_type": "markdown",
   "id": "27a40d81",
   "metadata": {},
   "source": [
    "The values stored in a list can be accessed using the slice operator ([ ] and [:]) with indexes starting at 0 in the beginning of the list and working their way to end -1. The plus (+) sign is the list concatenation operator, and the asterisk (*) is the repetition operator. For example −"
   ]
  },
  {
   "cell_type": "code",
   "execution_count": 73,
   "id": "e83f6c8b",
   "metadata": {},
   "outputs": [],
   "source": [
    "lst1 = ['abc', 45, 4.5, 'sam', 5.6]\n",
    "lst2 = [258, 'sahara']"
   ]
  },
  {
   "cell_type": "code",
   "execution_count": 74,
   "id": "94588de5",
   "metadata": {},
   "outputs": [
    {
     "name": "stdout",
     "output_type": "stream",
     "text": [
      "[258, 'sahara', 258, 'sahara']\n",
      "['abc', 45, 4.5, 'sam', 5.6, 258, 'sahara']\n"
     ]
    }
   ],
   "source": [
    "print(lst2 * 2)             #prints list two times\n",
    "print(lst1 + lst2)          #prints concatenated lists"
   ]
  },
  {
   "cell_type": "code",
   "execution_count": 75,
   "id": "b6442172",
   "metadata": {
    "scrolled": true
   },
   "outputs": [
    {
     "name": "stdout",
     "output_type": "stream",
     "text": [
      "Enter any sequence10,20,40,44,50,53\n"
     ]
    }
   ],
   "source": [
    "# write a program to take a sentence and split it into word\n",
    "\n",
    "str = input(\"Enter any sequence\")"
   ]
  },
  {
   "cell_type": "code",
   "execution_count": 76,
   "id": "c44bf0cf",
   "metadata": {},
   "outputs": [
    {
     "data": {
      "text/plain": [
       "'10,20,40,44,50,53'"
      ]
     },
     "execution_count": 76,
     "metadata": {},
     "output_type": "execute_result"
    }
   ],
   "source": [
    "str"
   ]
  },
  {
   "cell_type": "code",
   "execution_count": 77,
   "id": "2156600d",
   "metadata": {},
   "outputs": [
    {
     "data": {
      "text/plain": [
       "str"
      ]
     },
     "execution_count": 77,
     "metadata": {},
     "output_type": "execute_result"
    }
   ],
   "source": [
    "type(str)"
   ]
  },
  {
   "cell_type": "code",
   "execution_count": 78,
   "id": "1bd439f2",
   "metadata": {},
   "outputs": [],
   "source": [
    "l = str.split()"
   ]
  },
  {
   "cell_type": "code",
   "execution_count": 79,
   "id": "2df92c22",
   "metadata": {},
   "outputs": [
    {
     "data": {
      "text/plain": [
       "['10,20,40,44,50,53']"
      ]
     },
     "execution_count": 79,
     "metadata": {},
     "output_type": "execute_result"
    }
   ],
   "source": [
    "l"
   ]
  },
  {
   "cell_type": "code",
   "execution_count": 80,
   "id": "06b6c5e9",
   "metadata": {},
   "outputs": [
    {
     "data": {
      "text/plain": [
       "list"
      ]
     },
     "execution_count": 80,
     "metadata": {},
     "output_type": "execute_result"
    }
   ],
   "source": [
    "type(l)"
   ]
  },
  {
   "cell_type": "code",
   "execution_count": 84,
   "id": "58e91e0a",
   "metadata": {},
   "outputs": [
    {
     "name": "stdout",
     "output_type": "stream",
     "text": [
      "Enter a number25\n",
      "25.\n"
     ]
    }
   ],
   "source": [
    "num = int(input(\"Enter a number\"))\n",
    "print(num,'',sep='.')"
   ]
  },
  {
   "cell_type": "markdown",
   "id": "3dcfc16f",
   "metadata": {},
   "source": [
    "### Tuples"
   ]
  },
  {
   "cell_type": "markdown",
   "id": "4265e1b6",
   "metadata": {},
   "source": [
    "A tuple is another sequence data type that is like the list"
   ]
  },
  {
   "cell_type": "markdown",
   "id": "324ff19c",
   "metadata": {},
   "source": [
    "A tuple consists of a number of values separated by commas. Unlike lists, however, tuples are enclosed within parentheses."
   ]
  },
  {
   "cell_type": "code",
   "execution_count": 85,
   "id": "af4a4a78",
   "metadata": {},
   "outputs": [],
   "source": [
    "tuple1 = ('abc', 45, 20.6, 'sam', 90)\n",
    "tuple2 = (123, 'sahara')"
   ]
  },
  {
   "cell_type": "code",
   "execution_count": 86,
   "id": "31f701f9",
   "metadata": {},
   "outputs": [
    {
     "name": "stdout",
     "output_type": "stream",
     "text": [
      "('abc', 45, 20.6, 'sam', 90)\n"
     ]
    }
   ],
   "source": [
    "print(tuple1)"
   ]
  },
  {
   "cell_type": "code",
   "execution_count": 87,
   "id": "b2de2439",
   "metadata": {},
   "outputs": [
    {
     "name": "stdout",
     "output_type": "stream",
     "text": [
      "abc\n"
     ]
    }
   ],
   "source": [
    "print(tuple1[0])"
   ]
  },
  {
   "cell_type": "code",
   "execution_count": 88,
   "id": "602598d4",
   "metadata": {},
   "outputs": [
    {
     "name": "stdout",
     "output_type": "stream",
     "text": [
      "(45, 20.6)\n"
     ]
    }
   ],
   "source": [
    "print(tuple1[1:3])"
   ]
  },
  {
   "cell_type": "code",
   "execution_count": 89,
   "id": "a7b785de",
   "metadata": {},
   "outputs": [
    {
     "name": "stdout",
     "output_type": "stream",
     "text": [
      "(20.6, 'sam', 90)\n"
     ]
    }
   ],
   "source": [
    "print(tuple1[2:])"
   ]
  },
  {
   "cell_type": "code",
   "execution_count": 90,
   "id": "f28d249c",
   "metadata": {},
   "outputs": [
    {
     "name": "stdout",
     "output_type": "stream",
     "text": [
      "(123, 'sahara', 123, 'sahara')\n"
     ]
    }
   ],
   "source": [
    "print(tuple2 * 2)"
   ]
  },
  {
   "cell_type": "code",
   "execution_count": 91,
   "id": "927b0932",
   "metadata": {},
   "outputs": [
    {
     "name": "stdout",
     "output_type": "stream",
     "text": [
      "('abc', 45, 20.6, 'sam', 90, 123, 'sahara')\n"
     ]
    }
   ],
   "source": [
    "print(tuple1 + tuple2)"
   ]
  },
  {
   "cell_type": "markdown",
   "id": "d92f052a",
   "metadata": {},
   "source": [
    "The following code is invalid with tuple, because we attempted to update a tuple, which is not allowed. Similar case is possible with lists "
   ]
  },
  {
   "cell_type": "code",
   "execution_count": 92,
   "id": "1ee5fc25",
   "metadata": {},
   "outputs": [],
   "source": [
    "list1 = ['abc', 45, 20.6, 'sam', 90]\n",
    "tuple1 = ('abc', 45, 20.6, 'sam', 90)"
   ]
  },
  {
   "cell_type": "code",
   "execution_count": 93,
   "id": "67a9d3ae",
   "metadata": {},
   "outputs": [
    {
     "ename": "TypeError",
     "evalue": "'tuple' object does not support item assignment",
     "output_type": "error",
     "traceback": [
      "\u001b[1;31m---------------------------------------------------------------------------\u001b[0m",
      "\u001b[1;31mTypeError\u001b[0m                                 Traceback (most recent call last)",
      "\u001b[1;32m~\\AppData\\Local\\Temp\\ipykernel_8036\\1502671813.py\u001b[0m in \u001b[0;36m<module>\u001b[1;34m\u001b[0m\n\u001b[0;32m      1\u001b[0m \u001b[0mlist1\u001b[0m\u001b[1;33m[\u001b[0m\u001b[1;36m2\u001b[0m\u001b[1;33m]\u001b[0m \u001b[1;33m=\u001b[0m \u001b[1;36m100\u001b[0m        \u001b[1;31m#valid syntax with list\u001b[0m\u001b[1;33m\u001b[0m\u001b[1;33m\u001b[0m\u001b[0m\n\u001b[1;32m----> 2\u001b[1;33m \u001b[0mtuple1\u001b[0m\u001b[1;33m[\u001b[0m\u001b[1;36m2\u001b[0m\u001b[1;33m]\u001b[0m \u001b[1;33m=\u001b[0m \u001b[1;36m100\u001b[0m       \u001b[1;31m#invalid syntax with tuple\u001b[0m\u001b[1;33m\u001b[0m\u001b[1;33m\u001b[0m\u001b[0m\n\u001b[0m",
      "\u001b[1;31mTypeError\u001b[0m: 'tuple' object does not support item assignment"
     ]
    }
   ],
   "source": [
    "list1[2] = 100        #valid syntax with list\n",
    "tuple1[2] = 100       #invalid syntax with tuple"
   ]
  },
  {
   "cell_type": "markdown",
   "id": "ee9587bb",
   "metadata": {},
   "source": [
    "### Python Dictionary"
   ]
  },
  {
   "cell_type": "markdown",
   "id": "a9a50969",
   "metadata": {},
   "source": [
    "• Python's dictionaries are kind of hash table type.\n",
    "\n",
    "• They work like associative arrays or hashes found in Perl and consist of\n",
    "key-value pairs.\n",
    "\n",
    "• Dictionaries are enclosed by curly braces ({ }) and values can be\n",
    "assigned and accessed using square braces ([]).\n"
   ]
  },
  {
   "cell_type": "code",
   "execution_count": 94,
   "id": "8aaa2211",
   "metadata": {},
   "outputs": [],
   "source": [
    "dict1 = {}\n",
    "dict1['one'] = 'This is python'\n",
    "dict1[2] = 'This is java'"
   ]
  },
  {
   "cell_type": "code",
   "execution_count": 95,
   "id": "7e95f097",
   "metadata": {},
   "outputs": [
    {
     "data": {
      "text/plain": [
       "{'one': 'This is python', 2: 'This is java'}"
      ]
     },
     "execution_count": 95,
     "metadata": {},
     "output_type": "execute_result"
    }
   ],
   "source": [
    "dict1"
   ]
  },
  {
   "cell_type": "code",
   "execution_count": 96,
   "id": "3bfbc4b2",
   "metadata": {},
   "outputs": [
    {
     "name": "stdout",
     "output_type": "stream",
     "text": [
      "This is python\n"
     ]
    }
   ],
   "source": [
    "print(dict1['one'])"
   ]
  },
  {
   "cell_type": "code",
   "execution_count": 97,
   "id": "498e39fd",
   "metadata": {},
   "outputs": [
    {
     "name": "stdout",
     "output_type": "stream",
     "text": [
      "This is java\n"
     ]
    }
   ],
   "source": [
    "print(dict1[2])"
   ]
  },
  {
   "cell_type": "code",
   "execution_count": 98,
   "id": "9bfb1a0b",
   "metadata": {},
   "outputs": [],
   "source": [
    "dict2 = {'name':'Ronak', 'id':12345, 'dept':'technical'}"
   ]
  },
  {
   "cell_type": "code",
   "execution_count": 99,
   "id": "8d4f901c",
   "metadata": {},
   "outputs": [
    {
     "name": "stdout",
     "output_type": "stream",
     "text": [
      "{'name': 'Ronak', 'id': 12345, 'dept': 'technical'}\n"
     ]
    }
   ],
   "source": [
    "print(dict2)"
   ]
  },
  {
   "cell_type": "code",
   "execution_count": 100,
   "id": "18d277a1",
   "metadata": {},
   "outputs": [
    {
     "name": "stdout",
     "output_type": "stream",
     "text": [
      "dict_keys(['name', 'id', 'dept'])\n"
     ]
    }
   ],
   "source": [
    "print(dict2.keys())"
   ]
  },
  {
   "cell_type": "code",
   "execution_count": 101,
   "id": "772562b3",
   "metadata": {},
   "outputs": [
    {
     "name": "stdout",
     "output_type": "stream",
     "text": [
      "dict_values(['Ronak', 12345, 'technical'])\n"
     ]
    }
   ],
   "source": [
    "print(dict2.values())"
   ]
  },
  {
   "cell_type": "markdown",
   "id": "754ceb6b",
   "metadata": {},
   "source": [
    "### Python Loops"
   ]
  },
  {
   "cell_type": "markdown",
   "id": "6e6ffa19",
   "metadata": {},
   "source": [
    "In general, statements are executed sequentially: The first statement in a function is executed first, followed by the second, and so on. There may be a situation when you need to execute a block of code several number of times."
   ]
  },
  {
   "cell_type": "markdown",
   "id": "6d0e2b57",
   "metadata": {},
   "source": [
    "### While loop"
   ]
  },
  {
   "cell_type": "markdown",
   "id": "a1fd6eb6",
   "metadata": {},
   "source": [
    "A while loop statement in Python programming language repeatedly executes a target statement as long as a given condition is true.\n",
    "\n",
    "Syntax :\n",
    "\n",
    "while expression:\n",
    "\n",
    "statement(s)"
   ]
  },
  {
   "cell_type": "code",
   "execution_count": 104,
   "id": "2d06fa14",
   "metadata": {},
   "outputs": [
    {
     "name": "stdout",
     "output_type": "stream",
     "text": [
      "The count is: 0\n",
      "The count is: 1\n",
      "The count is: 2\n",
      "The count is: 3\n",
      "The count is: 4\n",
      "The count is: 5\n",
      "The count is: 6\n",
      "The count is: 7\n",
      "The count is: 8\n",
      "The count is: 9\n",
      "Good Night!\n"
     ]
    }
   ],
   "source": [
    "count = 0\n",
    "while (count < 10):\n",
    "    print('The count is:',count)\n",
    "    count = count + 1\n",
    "print('Good Night!')"
   ]
  },
  {
   "cell_type": "markdown",
   "id": "c869d1cb",
   "metadata": {},
   "source": [
    "### While loop with Else"
   ]
  },
  {
   "cell_type": "markdown",
   "id": "e46b0a16",
   "metadata": {},
   "source": [
    "Python supports to have an else statement associated with a loop statement. If the else statement is used with a while loop, the else statement is executed when the condition becomes false."
   ]
  },
  {
   "cell_type": "code",
   "execution_count": 105,
   "id": "81dba731",
   "metadata": {},
   "outputs": [
    {
     "name": "stdout",
     "output_type": "stream",
     "text": [
      "0 is less than 5\n",
      "1 is less than 5\n",
      "2 is less than 5\n",
      "3 is less than 5\n",
      "4 is less than 5\n",
      "5 is not less than 5\n"
     ]
    }
   ],
   "source": [
    "count = 0\n",
    "while count < 5:\n",
    "    print(count, 'is less than 5')\n",
    "    count = count + 1\n",
    "else:\n",
    "    print(count, 'is not less than 5')"
   ]
  },
  {
   "cell_type": "markdown",
   "id": "bfc5ac7a",
   "metadata": {},
   "source": [
    "###  For Loop"
   ]
  },
  {
   "cell_type": "markdown",
   "id": "8dbfdd20",
   "metadata": {},
   "source": [
    "It could iterate over the items of any sequence, such as a list or a string.\n",
    "\n",
    "Syntax :\n",
    "\n",
    "for iterating_var in sequence:\n",
    "\n",
    "statements(s)"
   ]
  },
  {
   "cell_type": "code",
   "execution_count": 106,
   "id": "f9e364bf",
   "metadata": {},
   "outputs": [
    {
     "name": "stdout",
     "output_type": "stream",
     "text": [
      "Current Letter: p\n",
      "Current Letter: y\n",
      "Current Letter: t\n",
      "Current Letter: h\n",
      "Current Letter: o\n",
      "Current Letter: n\n"
     ]
    }
   ],
   "source": [
    "for letter in 'python':\n",
    "    print('Current Letter:', letter)"
   ]
  },
  {
   "cell_type": "code",
   "execution_count": 107,
   "id": "35163a39",
   "metadata": {},
   "outputs": [
    {
     "name": "stdout",
     "output_type": "stream",
     "text": [
      "Current Fruit: banana\n",
      "Current Fruit: apple\n",
      "Current Fruit: mango\n"
     ]
    }
   ],
   "source": [
    "fruits = ['banana', 'apple', 'mango']\n",
    "\n",
    "for fruit in fruits:\n",
    "    print('Current Fruit:', fruit)"
   ]
  },
  {
   "cell_type": "markdown",
   "id": "7f122f41",
   "metadata": {},
   "source": [
    "### For loops with Else"
   ]
  },
  {
   "cell_type": "markdown",
   "id": "3e4749ef",
   "metadata": {},
   "source": [
    "Python supports to have an else statement associated with a loop statement.\n",
    "If the else statement is used with a for loop, the else statement is executed\n",
    "when the loop has exhausted iterating the lis"
   ]
  },
  {
   "cell_type": "code",
   "execution_count": 109,
   "id": "6fdbbc45",
   "metadata": {},
   "outputs": [
    {
     "name": "stdout",
     "output_type": "stream",
     "text": [
      "10 equals 2 * 5\n",
      "12 equals 2 * 6\n",
      "14 equals 2 * 7\n",
      "16 equals 2 * 8\n",
      "18 equals 2 * 9\n"
     ]
    }
   ],
   "source": [
    "for num in range(10,20):                              #to iterate between 10 to 20\n",
    "    for i in range(2,num):                            #to iterate on the factor of the number\n",
    "        if num%i == 0:                                #to determine the first factor\n",
    "            j = num/i                                 #to calculate second the factor\n",
    "            print('%d equals %d * %d' %(num,i,j))\n",
    "        break                                         #to move to the next number\n",
    "    else:\n",
    "        print(num, 'is Prime number')\n",
    "        break"
   ]
  },
  {
   "cell_type": "code",
   "execution_count": null,
   "id": "a8b0f1c2",
   "metadata": {},
   "outputs": [],
   "source": []
  },
  {
   "cell_type": "code",
   "execution_count": null,
   "id": "f858ce6d",
   "metadata": {},
   "outputs": [],
   "source": []
  }
 ],
 "metadata": {
  "kernelspec": {
   "display_name": "Python 3 (ipykernel)",
   "language": "python",
   "name": "python3"
  },
  "language_info": {
   "codemirror_mode": {
    "name": "ipython",
    "version": 3
   },
   "file_extension": ".py",
   "mimetype": "text/x-python",
   "name": "python",
   "nbconvert_exporter": "python",
   "pygments_lexer": "ipython3",
   "version": "3.9.13"
  }
 },
 "nbformat": 4,
 "nbformat_minor": 5
}
