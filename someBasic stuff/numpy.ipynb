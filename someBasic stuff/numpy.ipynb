{
 "cells": [
  {
   "cell_type": "markdown",
   "id": "bb5027ae",
   "metadata": {},
   "source": [
    "### NumPy"
   ]
  },
  {
   "cell_type": "markdown",
   "id": "7903de69",
   "metadata": {},
   "source": [
    "NumPy stands for Numerical Python.\n",
    "\n",
    "NumPy is a Python library and is written partially in Python, but most of the parts that require fast computation are written in C or C++\n",
    "\n",
    "It also has functions for working in domain of linear algebra, Fourier transform, and matrices."
   ]
  },
  {
   "cell_type": "code",
   "execution_count": 1,
   "id": "801541b2",
   "metadata": {},
   "outputs": [],
   "source": [
    "import numpy as np"
   ]
  },
  {
   "cell_type": "code",
   "execution_count": 2,
   "id": "f6bff972",
   "metadata": {},
   "outputs": [
    {
     "data": {
      "text/plain": [
       "array([[1, 2, 3, 4],\n",
       "       [5, 6, 7, 8]])"
      ]
     },
     "execution_count": 2,
     "metadata": {},
     "output_type": "execute_result"
    }
   ],
   "source": [
    "arr = np.array([[1,2,3,4],[5,6,7,8]])    #creating a 2D array using numpy\n",
    "arr"
   ]
  },
  {
   "cell_type": "code",
   "execution_count": 3,
   "id": "fed4b0c5",
   "metadata": {},
   "outputs": [
    {
     "data": {
      "text/plain": [
       "2"
      ]
     },
     "execution_count": 3,
     "metadata": {},
     "output_type": "execute_result"
    }
   ],
   "source": [
    "arr.ndim   #The ndim attribute of an array returns the number of dimensions of the array"
   ]
  },
  {
   "cell_type": "code",
   "execution_count": 4,
   "id": "c7fd1e50",
   "metadata": {},
   "outputs": [
    {
     "data": {
      "text/plain": [
       "(2, 4)"
      ]
     },
     "execution_count": 4,
     "metadata": {},
     "output_type": "execute_result"
    }
   ],
   "source": [
    "arr.shape   #The shape attribute of an array returns a tuple representing the dimensions of the array"
   ]
  },
  {
   "cell_type": "code",
   "execution_count": 5,
   "id": "d5072ccb",
   "metadata": {},
   "outputs": [
    {
     "data": {
      "text/plain": [
       "numpy.ndarray"
      ]
     },
     "execution_count": 5,
     "metadata": {},
     "output_type": "execute_result"
    }
   ],
   "source": [
    "type(arr)   #The type() function returns the type of an object"
   ]
  },
  {
   "cell_type": "code",
   "execution_count": 6,
   "id": "98f1691a",
   "metadata": {},
   "outputs": [],
   "source": [
    "from numpy import random    #random module contains various functions for generating random numbers and arrays"
   ]
  },
  {
   "cell_type": "code",
   "execution_count": 7,
   "id": "f6f8aca9",
   "metadata": {},
   "outputs": [
    {
     "name": "stdout",
     "output_type": "stream",
     "text": [
      "0.8674708557310432\n"
     ]
    }
   ],
   "source": [
    "x = random.rand()   #It will generates a random float between 0 and 1 using the rand() function from the random module in numpy\n",
    "print(x)"
   ]
  },
  {
   "cell_type": "code",
   "execution_count": 8,
   "id": "5d6a4851",
   "metadata": {
    "scrolled": true
   },
   "outputs": [
    {
     "name": "stdout",
     "output_type": "stream",
     "text": [
      "[96 90 55 60  0]\n"
     ]
    }
   ],
   "source": [
    "x = random.randint(100,size=(5))   #It will generates an array of 5 random integers between 0 and 99 using the randint() function from the random module in numpy\n",
    "print(x)"
   ]
  },
  {
   "cell_type": "code",
   "execution_count": 10,
   "id": "9807498f",
   "metadata": {},
   "outputs": [
    {
     "data": {
      "text/plain": [
       "(5,)"
      ]
     },
     "execution_count": 10,
     "metadata": {},
     "output_type": "execute_result"
    }
   ],
   "source": [
    "x.shape   #he shape of this array is (5,), which means it is a 1D array"
   ]
  },
  {
   "cell_type": "code",
   "execution_count": 11,
   "id": "f18a9d8f",
   "metadata": {},
   "outputs": [
    {
     "name": "stdout",
     "output_type": "stream",
     "text": [
      "[[34 72 91 33  3]\n",
      " [13 28  3 60 43]\n",
      " [35 79 16 50  5]]\n"
     ]
    }
   ],
   "source": [
    "y = random.randint(100, size =(3,5))   #It will generates an array of 15 random integers between 0 and 99 using the randint() function from the random module in numpy\n",
    "print(y)"
   ]
  },
  {
   "cell_type": "code",
   "execution_count": 13,
   "id": "4c5496b8",
   "metadata": {},
   "outputs": [
    {
     "data": {
      "text/plain": [
       "(3, 5)"
      ]
     },
     "execution_count": 13,
     "metadata": {},
     "output_type": "execute_result"
    }
   ],
   "source": [
    "y.shape   #The shape of this array is (3, 5), which means it is a 2D array with 3 rows and 5 columns"
   ]
  },
  {
   "cell_type": "code",
   "execution_count": 14,
   "id": "96d69476",
   "metadata": {},
   "outputs": [
    {
     "name": "stdout",
     "output_type": "stream",
     "text": [
      "input array is  [8]\n",
      "output array 8\n",
      "8\n"
     ]
    },
    {
     "name": "stderr",
     "output_type": "stream",
     "text": [
      "C:\\Users\\Shubham Dodiya\\AppData\\Local\\Temp\\ipykernel_784\\3737495658.py:4: DeprecationWarning: np.asscalar(a) is deprecated since NumPy v1.16, use a.item() instead\n",
      "  out_scalar = np.asscalar(in_arr)   #The np.asscalar() function is used to convert an array of size 1 to its scalar equivalent\n"
     ]
    }
   ],
   "source": [
    "in_arr = np.array([8])\n",
    "print(\"input array is \", in_arr)\n",
    "\n",
    "out_scalar = np.asscalar(in_arr)   #The np.asscalar() function is used to convert an array of size 1 to its scalar equivalent\n",
    "print(\"output array\", out_scalar)\n",
    "\n",
    "print(in_arr.item())   #The np.ndarray.item() method copies an element of an array to a standard Python scalar and returns it"
   ]
  },
  {
   "cell_type": "code",
   "execution_count": 18,
   "id": "03fbd855",
   "metadata": {},
   "outputs": [
    {
     "name": "stdout",
     "output_type": "stream",
     "text": [
      "horizontal\n",
      "[1 2 3]\n",
      "vertical\n",
      "[[1]\n",
      " [2]\n",
      " [3]]\n"
     ]
    }
   ],
   "source": [
    "list1 = [1,2,3]\n",
    "list2 = [[1],\n",
    "         [2],\n",
    "         [3]]    #sub-lists\n",
    "\n",
    "vector1 = np.array(list1)\n",
    "vector2 = np.array(list2)\n",
    "\n",
    "print(\"horizontal\")\n",
    "print(vector1)\n",
    "\n",
    "print(\"vertical\")\n",
    "print(vector2)"
   ]
  },
  {
   "cell_type": "code",
   "execution_count": 21,
   "id": "d08b234b",
   "metadata": {},
   "outputs": [
    {
     "name": "stdout",
     "output_type": "stream",
     "text": [
      "[[1 2]\n",
      " [3 4]]\n"
     ]
    }
   ],
   "source": [
    "a = np.matrix('1 2;3 4')    #The np.matrix() function is used to create a matrix from a string or an array-like object\n",
    "print(a)"
   ]
  },
  {
   "cell_type": "code",
   "execution_count": 24,
   "id": "9182e958",
   "metadata": {},
   "outputs": [
    {
     "name": "stdout",
     "output_type": "stream",
     "text": [
      "[[list([5, 6, 7]) list([4, 6])]]\n"
     ]
    }
   ],
   "source": [
    "b = np.matrix([[5,6,7],[4,6]])   #array-like object\n",
    "print(b)                         #ValueError because the sub-lists have different lengths(2x3)"
   ]
  },
  {
   "cell_type": "code",
   "execution_count": 25,
   "id": "74d980bb",
   "metadata": {},
   "outputs": [
    {
     "name": "stdout",
     "output_type": "stream",
     "text": [
      "[[-6.9  0. ]\n",
      " [ 4.   6. ]]\n"
     ]
    }
   ],
   "source": [
    "b = np.matrix([[-6.9,0],[4,6]])   #2x2 \n",
    "print(b)"
   ]
  },
  {
   "cell_type": "code",
   "execution_count": 26,
   "id": "1ef8c74e",
   "metadata": {},
   "outputs": [
    {
     "data": {
      "text/plain": [
       "array([[0, 0, 0, 0, 0],\n",
       "       [0, 0, 0, 0, 0],\n",
       "       [0, 0, 0, 0, 0],\n",
       "       [0, 0, 0, 0, 0]])"
      ]
     },
     "execution_count": 26,
     "metadata": {},
     "output_type": "execute_result"
    }
   ],
   "source": [
    "np.zeros(20,dtype=int).reshape(4,5)   #The np.zeros() function is used to create an array of zeros with the specified shape and data type"
   ]
  },
  {
   "cell_type": "code",
   "execution_count": 28,
   "id": "3b15b7b7",
   "metadata": {},
   "outputs": [
    {
     "data": {
      "text/plain": [
       "array([[1, 1, 1, 1, 1],\n",
       "       [1, 1, 1, 1, 1],\n",
       "       [1, 1, 1, 1, 1],\n",
       "       [1, 1, 1, 1, 1]])"
      ]
     },
     "execution_count": 28,
     "metadata": {},
     "output_type": "execute_result"
    }
   ],
   "source": [
    "np.ones(20,dtype=int).reshape(4,5)   #same as above, just using ones(1) instead of zeros(0)"
   ]
  },
  {
   "cell_type": "code",
   "execution_count": 30,
   "id": "7ac8aafe",
   "metadata": {},
   "outputs": [
    {
     "name": "stdout",
     "output_type": "stream",
     "text": [
      "[[30 35]\n",
      " [40 45]]\n"
     ]
    }
   ],
   "source": [
    "A = 5\n",
    "B = [[6,7],\n",
    "     [8,9]]\n",
    "\n",
    "print(np.dot(A,B))"
   ]
  },
  {
   "cell_type": "code",
   "execution_count": 31,
   "id": "9f17a794",
   "metadata": {},
   "outputs": [
    {
     "name": "stdout",
     "output_type": "stream",
     "text": [
      "[[ 92 105]\n",
      " [120 137]]\n"
     ]
    }
   ],
   "source": [
    "A = [[6,7],\n",
    "     [8,9]]\n",
    "B = [[6,7],\n",
    "     [8,9]]\n",
    "print(np.dot(A,B))    #The np.dot() function is used to compute the dot product of two arrays"
   ]
  },
  {
   "cell_type": "code",
   "execution_count": 32,
   "id": "36ae68e1",
   "metadata": {},
   "outputs": [
    {
     "name": "stdout",
     "output_type": "stream",
     "text": [
      "[[ 1  2  3]\n",
      " [98 60 75]\n",
      " [79 25 48]]\n",
      "1\n",
      "98\n"
     ]
    }
   ],
   "source": [
    "arr = np.array([[1,2,3],[98,60,75],[79,25,48]])\n",
    "print(arr)\n",
    "print(np.amin(arr))   #np.amin() returns the minimum value of an array or minimum along the axis (if mentioned)\n",
    "print(np.amax(arr))   #while np.amax() returns the maximum of an array or maximum along the axis (if mentioned)"
   ]
  },
  {
   "cell_type": "code",
   "execution_count": 33,
   "id": "2fe429f5",
   "metadata": {},
   "outputs": [
    {
     "name": "stdout",
     "output_type": "stream",
     "text": [
      "[5 6 7]\n",
      "6.0\n",
      "6.0\n",
      "0.816496580927726\n",
      "0.6666666666666666\n"
     ]
    }
   ],
   "source": [
    "a = np.array([5,6,7])\n",
    "print(a)\n",
    "print(np.mean(a))      #average\n",
    "print(np.median(a))    #median\n",
    "print(np.std(a))       #standard deviation\n",
    "print(np.var(a))       #variance"
   ]
  },
  {
   "cell_type": "code",
   "execution_count": 34,
   "id": "9ff14673",
   "metadata": {},
   "outputs": [],
   "source": [
    "#why we use standard deviation --> \n",
    "#if there are outliers can we can know how far outlier is far frpm z-test"
   ]
  },
  {
   "cell_type": "code",
   "execution_count": 37,
   "id": "21db4e83",
   "metadata": {},
   "outputs": [
    {
     "name": "stdout",
     "output_type": "stream",
     "text": [
      "Q1: 62.5\n",
      "Q3: 96.5\n",
      "IQR: 34.0\n"
     ]
    }
   ],
   "source": [
    "data = [32,36,46,47,56,69,75,79,79,88,89,91,92,93,96,97,101,105,112,116]\n",
    "\n",
    "Q1 = np.median(data[:10])    #The first quartile (Q1) is the median of the lower half of the data set \n",
    "\n",
    "Q3 = np.median(data[10:])    #while the third quartile (Q3) is the median of the upper half of the data set\n",
    "\n",
    "print('Q1:',Q1)\n",
    "print('Q3:',Q3)\n",
    "\n",
    "IQR = Q3-Q1   #The interquartile range (IQR) is defined as Q3 - Q1\n",
    "print('IQR:',IQR)"
   ]
  },
  {
   "cell_type": "code",
   "execution_count": 38,
   "id": "df00bfdc",
   "metadata": {},
   "outputs": [
    {
     "data": {
      "text/plain": [
       "20"
      ]
     },
     "execution_count": 38,
     "metadata": {},
     "output_type": "execute_result"
    }
   ],
   "source": [
    "len(data)   #length of data set"
   ]
  },
  {
   "cell_type": "code",
   "execution_count": 39,
   "id": "3fc090d7",
   "metadata": {},
   "outputs": [
    {
     "name": "stdout",
     "output_type": "stream",
     "text": [
      "[32, 36, 46, 47, 56, 69, 75, 79, 79, 88, 89, 91, 92, 93, 96, 97, 101, 105, 112, 116]\n"
     ]
    }
   ],
   "source": [
    "data.sort()   #sorts the list data in ascending order\n",
    "print(data)"
   ]
  },
  {
   "cell_type": "markdown",
   "id": "c13670ca",
   "metadata": {},
   "source": [
    "### Case Study"
   ]
  },
  {
   "cell_type": "code",
   "execution_count": 40,
   "id": "4df7dd20",
   "metadata": {},
   "outputs": [],
   "source": [
    "cric_data = np.loadtxt(\"cric_data.tsv\", skiprows=1)"
   ]
  },
  {
   "cell_type": "code",
   "execution_count": 44,
   "id": "6221a5c1",
   "metadata": {},
   "outputs": [
    {
     "data": {
      "text/plain": [
       "array([[  0., 100.,  78., 342.],\n",
       "       [  1.,  11.,  62., 191.],\n",
       "       [  2.,   8.,  85., 252.],\n",
       "       [  3.,  71.,  24., 307.],\n",
       "       [  4., 104.,  17., 229.],\n",
       "       [  5.,  18., 104., 246.],\n",
       "       [  6.,   8.,  76., 226.],\n",
       "       [  7.,  86.,  74., 288.],\n",
       "       [  8.,  12.,  60., 216.],\n",
       "       [  9.,  85.,  12., 224.],\n",
       "       [ 10.,  18.,  63., 161.],\n",
       "       [ 11.,   4., 107., 276.],\n",
       "       [ 12.,   7.,  76., 283.],\n",
       "       [ 13.,  37.,   4., 297.],\n",
       "       [ 14.,  14.,   5., 139.],\n",
       "       [ 15.,   0.,  33., 224.],\n",
       "       [ 16.,   4.,   7., 178.],\n",
       "       [ 17.,   0.,   0.,   0.],\n",
       "       [ 18.,  21.,  36., 193.],\n",
       "       [ 19.,   1.,  66., 231.],\n",
       "       [ 20.,  62.,   0., 134.],\n",
       "       [ 21.,   0., 123., 246.],\n",
       "       [ 22., 138.,  39., 299.],\n",
       "       [ 23.,  38.,   9., 242.],\n",
       "       [ 24.,   2.,  11., 214.],\n",
       "       [ 25.,  46.,  14., 152.],\n",
       "       [ 26.,  65.,   0., 104.],\n",
       "       [ 27.,   0.,   0.,   4.],\n",
       "       [ 28.,  39.,  26., 155.],\n",
       "       [ 29.,  48.,   4., 168.],\n",
       "       [ 30., 141.,  48., 282.],\n",
       "       [ 31.,  62.,   7., 228.],\n",
       "       [ 32.,  12.,  73., 231.],\n",
       "       [ 33.,   1.,  86., 238.],\n",
       "       [ 34.,  41.,  32., 255.],\n",
       "       [ 35.,  11.,  82., 273.],\n",
       "       [ 36.,   3.,  25., 143.],\n",
       "       [ 37., 186., 153., 345.],\n",
       "       [ 38.,  11.,  26., 134.],\n",
       "       [ 39.,  27.,   1., 292.],\n",
       "       [ 40.,  27.,   6., 299.],\n",
       "       [ 41.,  51.,   3., 233.],\n",
       "       [ 42.,  18.,   1., 332.],\n",
       "       [ 43.,  32.,  39., 276.],\n",
       "       [ 44., 146.,  30., 264.],\n",
       "       [ 45.,   5.,  32., 213.],\n",
       "       [ 46.,  45.,  84., 224.],\n",
       "       [ 47., 141.,  36., 306.],\n",
       "       [ 48.,  12.,  31., 259.],\n",
       "       [ 49.,  65.,   0., 141.],\n",
       "       [ 50.,  27.,  47., 155.],\n",
       "       [ 51.,   7.,  13., 183.],\n",
       "       [ 52.,  16.,  49., 309.],\n",
       "       [ 53.,   2.,  28., 208.],\n",
       "       [ 54.,  28.,   0., 124.],\n",
       "       [ 55.,   6.,  28., 208.],\n",
       "       [ 56., 123.,  19., 305.],\n",
       "       [ 57., 120.,  13., 273.],\n",
       "       [ 58.,   7.,  14., 186.],\n",
       "       [ 59.,   3.,  11., 163.],\n",
       "       [ 60.,   0., 103., 239.],\n",
       "       [ 61.,  81.,  43., 274.],\n",
       "       [ 62.,   2.,   5., 182.],\n",
       "       [ 63.,  54.,   5., 256.],\n",
       "       [ 64., 122.,  15., 227.],\n",
       "       [ 65.,   4.,   0., 157.],\n",
       "       [ 66.,  14.,   5., 353.],\n",
       "       [ 67.,   0.,  30., 271.],\n",
       "       [ 68., 100.,   4., 211.],\n",
       "       [ 69.,  15.,  53., 141.],\n",
       "       [ 70.,   0.,  60., 243.],\n",
       "       [ 71.,  57.,   7., 499.],\n",
       "       [ 72.,  99.,  74., 229.],\n",
       "       [ 73.,  37.,  71., 234.],\n",
       "       [ 74.,  38.,  54., 259.],\n",
       "       [ 75.,  32.,  13., 242.],\n",
       "       [ 76.,  21.,  69., 223.],\n",
       "       [ 77.,  32.,  33., 184.],\n",
       "       [ 78.,  40.,  29., 125.],\n",
       "       [ 79.,   0.,   2., 195.],\n",
       "       [ 80.,   5.,   8., 154.],\n",
       "       [ 81.,   8.,  36., 142.],\n",
       "       [ 82.,   5.,  51., 197.],\n",
       "       [ 83.,   0.,   8., 213.],\n",
       "       [ 84.,  50.,  62., 256.],\n",
       "       [ 85.,  30.,   0., 197.],\n",
       "       [ 86.,  37.,  22., 177.],\n",
       "       [ 87.,  89.,  39., 167.],\n",
       "       [ 88.,   4., 104., 366.],\n",
       "       [ 89.,  98.,  44., 269.],\n",
       "       [ 90.,  83.,   1., 292.],\n",
       "       [ 91.,  93.,   2., 218.],\n",
       "       [ 92.,   0.,   0.,   0.],\n",
       "       [ 93.,  52.,  17., 199.],\n",
       "       [ 94., 152.,   0., 319.],\n",
       "       [ 95.,   1.,  14., 245.],\n",
       "       [ 96.,   8.,  62., 274.],\n",
       "       [ 97.,  93.,  15., 208.],\n",
       "       [ 98.,  45.,  68., 201.],\n",
       "       [ 99.,  26.,  17., 275.],\n",
       "       [100.,   0.,   0., 134.],\n",
       "       [101.,   1.,  22.,  68.],\n",
       "       [102.,   0.,  25., 149.],\n",
       "       [103.,  16.,  29., 216.],\n",
       "       [104.,  47.,  60., 407.],\n",
       "       [105.,  89.,  34., 302.],\n",
       "       [106.,   3.,  65., 197.],\n",
       "       [107.,   1.,   3., 222.],\n",
       "       [108.,  53.,   7., 224.],\n",
       "       [109.,  16.,  16., 321.],\n",
       "       [110.,   0.,   0.,   0.],\n",
       "       [111.,  81.,   4., 162.],\n",
       "       [112.,  14.,  53., 221.],\n",
       "       [113.,  78.,   5., 204.],\n",
       "       [114.,   6.,  23., 213.],\n",
       "       [115., 105.,  82., 286.],\n",
       "       [116., 122.,   3., 272.],\n",
       "       [117.,   9.,   0., 382.],\n",
       "       [118.,   8.,  20., 229.],\n",
       "       [119.,  28.,  21., 175.],\n",
       "       [120.,  35.,  80., 360.],\n",
       "       [121.,  69.,  22., 256.],\n",
       "       [122.,  13.,   8., 165.],\n",
       "       [123.,  97.,  18., 335.],\n",
       "       [124.,  93.,  24., 188.],\n",
       "       [125.,   2.,  50., 146.],\n",
       "       [126.,  36.,   1., 113.],\n",
       "       [127.,  39.,  42., 241.],\n",
       "       [128.,   2.,  61., 211.],\n",
       "       [129.,  29.,   0., 225.],\n",
       "       [130.,  12.,   6.,  35.],\n",
       "       [131.,  19.,  64., 163.],\n",
       "       [132.,  34.,   9., 200.],\n",
       "       [133.,   2.,  46., 176.],\n",
       "       [134., 100.,   0., 269.],\n",
       "       [135.,  44.,   0., 284.],\n",
       "       [136.,  82.,   0., 175.],\n",
       "       [137.,   0.,   0.,  27.],\n",
       "       [138.,  79.,  13., 282.],\n",
       "       [139.,   6.,   0., 141.],\n",
       "       [140.,   9.,  72., 229.],\n",
       "       [141.,   8.,  12., 213.],\n",
       "       [142.,  23.,  38., 205.],\n",
       "       [143.,  93.,  79., 279.],\n",
       "       [144.,  35.,  18.,  88.],\n",
       "       [145.,  63.,  16., 284.],\n",
       "       [146.,  74.,  16., 207.],\n",
       "       [147.,   8.,  56., 224.],\n",
       "       [148., 117.,  21., 204.],\n",
       "       [149.,  39.,  58., 280.],\n",
       "       [150.,  49.,   8., 197.],\n",
       "       [151.,  64.,   0., 205.],\n",
       "       [152.,  43.,   0., 230.],\n",
       "       [153.,  72.,   7., 323.],\n",
       "       [154.,   5.,  13., 209.],\n",
       "       [155.,  17.,  77., 210.],\n",
       "       [156.,   0.,  29., 162.],\n",
       "       [157.,  65.,  20., 272.],\n",
       "       [158.,  20.,  90., 251.],\n",
       "       [159., 141.,  26., 286.],\n",
       "       [160.,  28.,  54., 228.],\n",
       "       [161.,  44.,  17., 148.],\n",
       "       [162.,  27.,  78., 272.],\n",
       "       [163.,  60.,  57., 309.],\n",
       "       [164.,  68.,  59., 202.],\n",
       "       [165.,   3.,  10., 136.],\n",
       "       [166., 139.,  15., 281.],\n",
       "       [167.,  31.,  54., 314.],\n",
       "       [168.,   2.,  52., 419.],\n",
       "       [169.,  44.,   9., 229.],\n",
       "       [170.,  47.,   0., 133.],\n",
       "       [171.,   6.,  18., 228.],\n",
       "       [172.,  17.,   3., 143.],\n",
       "       [173.,  35.,   4., 116.],\n",
       "       [174.,  88.,   6., 194.],\n",
       "       [175., 114.,  16., 249.],\n",
       "       [176.,   7.,  71., 319.],\n",
       "       [177., 127.,  64., 205.],\n",
       "       [178.,   0.,   7., 191.],\n",
       "       [179.,  45.,  61., 213.],\n",
       "       [180.,  33.,   1., 104.],\n",
       "       [181., 110.,   7., 210.],\n",
       "       [182., 146.,   0., 392.],\n",
       "       [183.,   7.,   0.,  57.],\n",
       "       [184.,  25.,  26., 213.],\n",
       "       [185.,   9.,  19., 158.],\n",
       "       [186.,   2.,  63., 163.],\n",
       "       [187.,  11.,   3., 166.],\n",
       "       [188.,  17.,  46., 164.],\n",
       "       [189.,  14.,  31., 238.],\n",
       "       [190.,   1.,  12., 118.],\n",
       "       [191.,  45.,  49., 189.],\n",
       "       [192.,  94.,   4., 346.],\n",
       "       [193.,  28.,  99., 390.],\n",
       "       [194.,   4.,  47., 319.],\n",
       "       [195.,  62.,  56., 276.],\n",
       "       [196.,   1.,  73., 324.],\n",
       "       [197.,   9.,  74., 213.],\n",
       "       [198.,  67.,  31., 207.],\n",
       "       [199.,  10.,  29., 158.],\n",
       "       [200.,  99.,  92., 304.],\n",
       "       [201.,  55.,   1., 199.],\n",
       "       [202.,   0.,   0.,   0.],\n",
       "       [203.,   1.,  30., 195.],\n",
       "       [204., 101.,  16., 207.],\n",
       "       [205.,   2., 145., 352.],\n",
       "       [206.,   1.,  22., 225.],\n",
       "       [207.,  16.,  31., 236.],\n",
       "       [208., 140., 104., 301.],\n",
       "       [209.,  23.,  20., 136.],\n",
       "       [210., 113.,  13., 327.],\n",
       "       [211.,  10.,  52., 296.],\n",
       "       [212.,   1.,  31., 176.],\n",
       "       [213.,  41.,  12., 201.],\n",
       "       [214.,   1.,  50., 171.],\n",
       "       [215.,  28.,   3., 191.],\n",
       "       [216.,   2.,   9.,  11.],\n",
       "       [217.,  22.,  53., 211.],\n",
       "       [218.,  29.,  49., 225.],\n",
       "       [219.,   1.,  21., 290.],\n",
       "       [220.,  25.,  14., 101.],\n",
       "       [221., 102.,  50., 470.],\n",
       "       [222.,   0.,  22., 165.],\n",
       "       [223.,  27.,   0., 192.],\n",
       "       [224.,  40.,   0., 213.]])"
      ]
     },
     "execution_count": 44,
     "metadata": {},
     "output_type": "execute_result"
    }
   ],
   "source": [
    "cric_data"
   ]
  },
  {
   "cell_type": "code",
   "execution_count": 45,
   "id": "27229aab",
   "metadata": {},
   "outputs": [
    {
     "data": {
      "text/plain": [
       "(225, 4)"
      ]
     },
     "execution_count": 45,
     "metadata": {},
     "output_type": "execute_result"
    }
   ],
   "source": [
    "cric_data.shape"
   ]
  },
  {
   "cell_type": "code",
   "execution_count": 46,
   "id": "6b73becd",
   "metadata": {},
   "outputs": [],
   "source": [
    "Sachin = cric_data[:,1]\n",
    "Dravid = cric_data[:,2]\n",
    "India = cric_data[:,3]"
   ]
  },
  {
   "cell_type": "code",
   "execution_count": 51,
   "id": "869bb545",
   "metadata": {},
   "outputs": [
    {
     "data": {
      "text/plain": [
       "array([100.,  11.,   8.,  71., 104.,  18.,   8.,  86.,  12.,  85.,  18.,\n",
       "         4.,   7.,  37.,  14.,   0.,   4.,   0.,  21.,   1.,  62.,   0.,\n",
       "       138.,  38.,   2.,  46.,  65.,   0.,  39.,  48., 141.,  62.,  12.,\n",
       "         1.,  41.,  11.,   3., 186.,  11.,  27.,  27.,  51.,  18.,  32.,\n",
       "       146.,   5.,  45., 141.,  12.,  65.,  27.,   7.,  16.,   2.,  28.,\n",
       "         6., 123., 120.,   7.,   3.,   0.,  81.,   2.,  54., 122.,   4.,\n",
       "        14.,   0., 100.,  15.,   0.,  57.,  99.,  37.,  38.,  32.,  21.,\n",
       "        32.,  40.,   0.,   5.,   8.,   5.,   0.,  50.,  30.,  37.,  89.,\n",
       "         4.,  98.,  83.,  93.,   0.,  52., 152.,   1.,   8.,  93.,  45.,\n",
       "        26.,   0.,   1.,   0.,  16.,  47.,  89.,   3.,   1.,  53.,  16.,\n",
       "         0.,  81.,  14.,  78.,   6., 105., 122.,   9.,   8.,  28.,  35.,\n",
       "        69.,  13.,  97.,  93.,   2.,  36.,  39.,   2.,  29.,  12.,  19.,\n",
       "        34.,   2., 100.,  44.,  82.,   0.,  79.,   6.,   9.,   8.,  23.,\n",
       "        93.,  35.,  63.,  74.,   8., 117.,  39.,  49.,  64.,  43.,  72.,\n",
       "         5.,  17.,   0.,  65.,  20., 141.,  28.,  44.,  27.,  60.,  68.,\n",
       "         3., 139.,  31.,   2.,  44.,  47.,   6.,  17.,  35.,  88., 114.,\n",
       "         7., 127.,   0.,  45.,  33., 110., 146.,   7.,  25.,   9.,   2.,\n",
       "        11.,  17.,  14.,   1.,  45.,  94.,  28.,   4.,  62.,   1.,   9.,\n",
       "        67.,  10.,  99.,  55.,   0.,   1., 101.,   2.,   1.,  16., 140.,\n",
       "        23., 113.,  10.,   1.,  41.,   1.,  28.,   2.,  22.,  29.,   1.,\n",
       "        25., 102.,   0.,  27.,  40.])"
      ]
     },
     "execution_count": 51,
     "metadata": {},
     "output_type": "execute_result"
    }
   ],
   "source": [
    "Sachin"
   ]
  },
  {
   "cell_type": "markdown",
   "id": "091cd140",
   "metadata": {},
   "source": [
    "#### 1) Find the Mean and Median of Sachin, Dravid and India."
   ]
  },
  {
   "cell_type": "code",
   "execution_count": 53,
   "id": "4d0b2a92",
   "metadata": {},
   "outputs": [],
   "source": [
    "def stats(col):\n",
    "    print('Mean', np.mean(col))\n",
    "    print('Median', np.median(col))"
   ]
  },
  {
   "cell_type": "code",
   "execution_count": 54,
   "id": "e377162b",
   "metadata": {},
   "outputs": [
    {
     "name": "stdout",
     "output_type": "stream",
     "text": [
      "Mean 39.87555555555556\n",
      "Median 27.0\n"
     ]
    }
   ],
   "source": [
    "stats(Sachin)     "
   ]
  },
  {
   "cell_type": "code",
   "execution_count": 55,
   "id": "98a675a1",
   "metadata": {},
   "outputs": [
    {
     "name": "stdout",
     "output_type": "stream",
     "text": [
      "Mean 32.062222222222225\n",
      "Median 22.0\n"
     ]
    }
   ],
   "source": [
    "stats(Dravid)"
   ]
  },
  {
   "cell_type": "code",
   "execution_count": 56,
   "id": "84b4c3e8",
   "metadata": {},
   "outputs": [
    {
     "name": "stdout",
     "output_type": "stream",
     "text": [
      "Mean 220.79555555555555\n",
      "Median 216.0\n"
     ]
    }
   ],
   "source": [
    "stats(India)"
   ]
  },
  {
   "cell_type": "markdown",
   "id": "0e5fdc9b",
   "metadata": {},
   "source": [
    "#### 2) How many centuries did Sachin and Dravid Score?"
   ]
  },
  {
   "cell_type": "code",
   "execution_count": 57,
   "id": "dec1e8bb",
   "metadata": {},
   "outputs": [
    {
     "data": {
      "text/plain": [
       "26"
      ]
     },
     "execution_count": 57,
     "metadata": {},
     "output_type": "execute_result"
    }
   ],
   "source": [
    "np.count_nonzero(Sachin>99)"
   ]
  },
  {
   "cell_type": "code",
   "execution_count": 58,
   "id": "4eb902a3",
   "metadata": {},
   "outputs": [
    {
     "data": {
      "text/plain": [
       "8"
      ]
     },
     "execution_count": 58,
     "metadata": {},
     "output_type": "execute_result"
    }
   ],
   "source": [
    "np.count_nonzero(Dravid>99)     "
   ]
  },
  {
   "cell_type": "markdown",
   "id": "007b125f",
   "metadata": {},
   "source": [
    "#### 3) How many matches did Sachin and Dravid take to reach 1000 runs?"
   ]
  },
  {
   "cell_type": "code",
   "execution_count": 63,
   "id": "762b704c",
   "metadata": {},
   "outputs": [
    {
     "data": {
      "text/plain": [
       "29"
      ]
     },
     "execution_count": 63,
     "metadata": {},
     "output_type": "execute_result"
    }
   ],
   "source": [
    "sachin_cumscores = np.cumsum(Sachin)\n",
    "np.searchsorted(sachin_cumscores, 1000)"
   ]
  },
  {
   "cell_type": "code",
   "execution_count": 64,
   "id": "8d9435c3",
   "metadata": {},
   "outputs": [
    {
     "data": {
      "text/plain": [
       "21"
      ]
     },
     "execution_count": 64,
     "metadata": {},
     "output_type": "execute_result"
    }
   ],
   "source": [
    "dravid_cumscores = np.cumsum(Dravid)\n",
    "np.searchsorted(dravid_cumscores, 1000)"
   ]
  },
  {
   "cell_type": "code",
   "execution_count": null,
   "id": "7bba771a",
   "metadata": {},
   "outputs": [],
   "source": []
  }
 ],
 "metadata": {
  "kernelspec": {
   "display_name": "Python 3 (ipykernel)",
   "language": "python",
   "name": "python3"
  },
  "language_info": {
   "codemirror_mode": {
    "name": "ipython",
    "version": 3
   },
   "file_extension": ".py",
   "mimetype": "text/x-python",
   "name": "python",
   "nbconvert_exporter": "python",
   "pygments_lexer": "ipython3",
   "version": "3.9.13"
  }
 },
 "nbformat": 4,
 "nbformat_minor": 5
}
