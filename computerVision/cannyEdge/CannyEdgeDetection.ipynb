{
 "cells": [
  {
   "cell_type": "code",
   "execution_count": 2,
   "id": "25f30533",
   "metadata": {},
   "outputs": [],
   "source": [
    "import cv2\n",
    "  \n",
    "img = cv2.imread(\"k2.jpg\")  # Read image\n",
    "  \n",
    "# Setting parameter values\n",
    "t_lower = 100  # Lower Threshold\n",
    "t_upper = 150  # Upper threshold\n",
    "  \n",
    "# Applying the Canny Edge filter\n",
    "edge = cv2.Canny(img, t_lower, t_upper)\n",
    "  \n",
    "cv2.imshow('original', img)\n",
    "cv2.imshow('edge', edge)\n",
    "cv2.waitKey(0)\n",
    "cv2.destroyAllWindows()"
   ]
  },
  {
   "cell_type": "code",
   "execution_count": 3,
   "id": "50327d5a",
   "metadata": {},
   "outputs": [],
   "source": [
    "# Setting parameter values\n",
    "t_lower = 50  # Lower Threshold\n",
    "t_upper = 100  # Upper threshold\n",
    "  \n",
    "# Applying the Canny Edge filter\n",
    "edge = cv2.Canny(img, t_lower, t_upper)\n",
    "  \n",
    "cv2.imshow('original', img)\n",
    "cv2.imshow('edge', edge)\n",
    "cv2.waitKey(0)\n",
    "cv2.destroyAllWindows()"
   ]
  },
  {
   "cell_type": "markdown",
   "id": "b0be6f05",
   "metadata": {},
   "source": [
    "cv2.COLOR_BGR2GRAY: Converts an image from the BGR color space to grayscale.\n",
    "\n",
    "cv2.COLOR_BGR2RGB: Converts an image from the BGR color space to the RGB color space.\n",
    "\n",
    "cv2.COLOR_BGR2HSV: Converts an image from the BGR color space to the HSV color space.\n",
    "\n",
    "cv2.COLOR_BGR2LAB: Converts an image from the BGR color space to the CIE Lab* color space."
   ]
  },
  {
   "cell_type": "code",
   "execution_count": 4,
   "id": "a2e88e24",
   "metadata": {},
   "outputs": [],
   "source": [
    "# Convert the image to grayscale\n",
    "gray_img = cv2.cvtColor(img, cv2.COLOR_BGR2GRAY)\n",
    "\n",
    "# Show the original image\n",
    "cv2.imshow('Original', img)\n",
    "\n",
    "# Show the grayscale image\n",
    "cv2.imshow('Grayscale', gray_img)\n",
    "\n",
    "cv2.waitKey(0)\n",
    "cv2.destroyAllWindows()"
   ]
  },
  {
   "cell_type": "code",
   "execution_count": 8,
   "id": "b37bbd31",
   "metadata": {},
   "outputs": [],
   "source": [
    "# Convert the image to HSV color space\n",
    "gray_img = cv2.cvtColor(img, cv2.COLOR_BGR2HSV)\n",
    "\n",
    "# Show the original image\n",
    "cv2.imshow('Original', img)\n",
    "\n",
    "# Show the HSV color space image\n",
    "cv2.imshow('CIE Lab* color space', gray_img)\n",
    "\n",
    "cv2.waitKey(0)\n",
    "cv2.destroyAllWindows()"
   ]
  },
  {
   "cell_type": "code",
   "execution_count": 9,
   "id": "2b452819",
   "metadata": {},
   "outputs": [],
   "source": [
    "# Convert the image to CIE Lab* color space\n",
    "gray_img = cv2.cvtColor(img, cv2.COLOR_BGR2LAB)\n",
    "\n",
    "# Show the original image\n",
    "cv2.imshow('Original', img)\n",
    "\n",
    "# Show the CIE Lab* color space image\n",
    "cv2.imshow('CIE Lab* color space', gray_img)\n",
    "\n",
    "cv2.waitKey(0)\n",
    "cv2.destroyAllWindows()"
   ]
  },
  {
   "cell_type": "code",
   "execution_count": null,
   "id": "00dc2ab6",
   "metadata": {},
   "outputs": [],
   "source": []
  }
 ],
 "metadata": {
  "kernelspec": {
   "display_name": "Python 3 (ipykernel)",
   "language": "python",
   "name": "python3"
  },
  "language_info": {
   "codemirror_mode": {
    "name": "ipython",
    "version": 3
   },
   "file_extension": ".py",
   "mimetype": "text/x-python",
   "name": "python",
   "nbconvert_exporter": "python",
   "pygments_lexer": "ipython3",
   "version": "3.9.13"
  }
 },
 "nbformat": 4,
 "nbformat_minor": 5
}
